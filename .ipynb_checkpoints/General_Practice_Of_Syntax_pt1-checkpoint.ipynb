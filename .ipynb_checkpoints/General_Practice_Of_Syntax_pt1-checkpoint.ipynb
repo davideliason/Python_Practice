{
 "cells": [
  {
   "cell_type": "code",
   "execution_count": 23,
   "id": "ed898ec4",
   "metadata": {},
   "outputs": [],
   "source": [
    "str1 = \"hello\""
   ]
  },
  {
   "cell_type": "code",
   "execution_count": 24,
   "id": "e8c726a6",
   "metadata": {},
   "outputs": [],
   "source": [
    "str2 = \"world\""
   ]
  },
  {
   "cell_type": "code",
   "execution_count": 25,
   "id": "fce3077d",
   "metadata": {},
   "outputs": [],
   "source": [
    "str3 = \"!\""
   ]
  },
  {
   "cell_type": "code",
   "execution_count": 26,
   "id": "2ad599be",
   "metadata": {},
   "outputs": [],
   "source": [
    "concat_str = str1 + \" \"+ str2 + \" \" + str3"
   ]
  },
  {
   "cell_type": "code",
   "execution_count": 28,
   "id": "f678798d",
   "metadata": {},
   "outputs": [
    {
     "name": "stdout",
     "output_type": "stream",
     "text": [
      "13\n"
     ]
    }
   ],
   "source": [
    "print(len(concat_str))"
   ]
  },
  {
   "cell_type": "code",
   "execution_count": 29,
   "id": "428b0d38",
   "metadata": {},
   "outputs": [
    {
     "name": "stdout",
     "output_type": "stream",
     "text": [
      "['hello', 'world', '!']\n"
     ]
    }
   ],
   "source": [
    "print(concat_str.split())"
   ]
  },
  {
   "cell_type": "code",
   "execution_count": 30,
   "id": "e0bde8c8",
   "metadata": {},
   "outputs": [],
   "source": [
    "split_str = concat_str.split()"
   ]
  },
  {
   "cell_type": "code",
   "execution_count": 31,
   "id": "b6170397",
   "metadata": {},
   "outputs": [
    {
     "name": "stdout",
     "output_type": "stream",
     "text": [
      "['hello', 'world', '!']\n"
     ]
    }
   ],
   "source": [
    "print(split_str)"
   ]
  },
  {
   "cell_type": "code",
   "execution_count": 38,
   "id": "fa7daf1c",
   "metadata": {
    "scrolled": true
   },
   "outputs": [
    {
     "name": "stdout",
     "output_type": "stream",
     "text": [
      "hello\n",
      "hello, this is world world\n",
      "world\n",
      "!\n"
     ]
    }
   ],
   "source": [
    "# simple loop\n",
    "for x in split_str:\n",
    "    if x == \"world\":\n",
    "        print(\"hello, this is world\", x)\n",
    "    print(x)"
   ]
  },
  {
   "cell_type": "code",
   "execution_count": 45,
   "id": "7696c399",
   "metadata": {},
   "outputs": [
    {
     "data": {
      "text/plain": [
       "['he', '', 'o']"
      ]
     },
     "execution_count": 45,
     "metadata": {},
     "output_type": "execute_result"
    }
   ],
   "source": [
    "str1.upper().lower().split(\"l\") #multiple methods"
   ]
  },
  {
   "cell_type": "markdown",
   "id": "5545d812",
   "metadata": {},
   "source": [
    "<h2> formatting </h2>"
   ]
  },
  {
   "cell_type": "code",
   "execution_count": 46,
   "id": "80e1fc27",
   "metadata": {},
   "outputs": [
    {
     "name": "stdout",
     "output_type": "stream",
     "text": [
      "this is using .format method\n"
     ]
    }
   ],
   "source": [
    "print(\"this is using .format {}\".format(\"method\"))"
   ]
  },
  {
   "cell_type": "code",
   "execution_count": 47,
   "id": "96d4110d",
   "metadata": {},
   "outputs": [
    {
     "name": "stdout",
     "output_type": "stream",
     "text": [
      "this is first and second\n"
     ]
    }
   ],
   "source": [
    "print(\"this is {a} and {b}\".format(a=\"first\", b=\"second\"))"
   ]
  },
  {
   "cell_type": "markdown",
   "id": "9a7f6ee3",
   "metadata": {},
   "source": [
    "<h2> Lists </h2>"
   ]
  },
  {
   "cell_type": "code",
   "execution_count": 48,
   "id": "490ff4bc",
   "metadata": {},
   "outputs": [],
   "source": [
    "list1 = [1,2,3]"
   ]
  },
  {
   "cell_type": "code",
   "execution_count": 49,
   "id": "b2eb03ec",
   "metadata": {},
   "outputs": [
    {
     "name": "stdout",
     "output_type": "stream",
     "text": [
      "3\n"
     ]
    }
   ],
   "source": [
    "print(len(list1))"
   ]
  },
  {
   "cell_type": "code",
   "execution_count": 51,
   "id": "edcad501",
   "metadata": {},
   "outputs": [
    {
     "name": "stdout",
     "output_type": "stream",
     "text": [
      "This is 1\n",
      "This is 2\n",
      "This is 3\n"
     ]
    }
   ],
   "source": [
    "#loop through list and stdout using .format method\n",
    "for num in list1:\n",
    "    print(\"This is {x}\".format(x=num))"
   ]
  },
  {
   "cell_type": "code",
   "execution_count": 52,
   "id": "7b117408",
   "metadata": {},
   "outputs": [
    {
     "data": {
      "text/plain": [
       "1"
      ]
     },
     "execution_count": 52,
     "metadata": {},
     "output_type": "execute_result"
    }
   ],
   "source": [
    "list1[0]"
   ]
  },
  {
   "cell_type": "code",
   "execution_count": 53,
   "id": "9a23ff06",
   "metadata": {},
   "outputs": [
    {
     "data": {
      "text/plain": [
       "[1, 2, 3]"
      ]
     },
     "execution_count": 53,
     "metadata": {},
     "output_type": "execute_result"
    }
   ],
   "source": [
    "list1[0:]"
   ]
  },
  {
   "cell_type": "code",
   "execution_count": 54,
   "id": "4618647d",
   "metadata": {},
   "outputs": [
    {
     "data": {
      "text/plain": [
       "[1, 2]"
      ]
     },
     "execution_count": 54,
     "metadata": {},
     "output_type": "execute_result"
    }
   ],
   "source": [
    "list1[:2] # everything up to index loc 2"
   ]
  },
  {
   "cell_type": "code",
   "execution_count": 55,
   "id": "66e69e83",
   "metadata": {},
   "outputs": [
    {
     "name": "stdout",
     "output_type": "stream",
     "text": [
      "[1, 2, 3, 4, 5, 6]\n"
     ]
    }
   ],
   "source": [
    "# concat lists\n",
    "list2 = [4,5,6]\n",
    "list_sum = list1 + list2\n",
    "print(list_sum)"
   ]
  },
  {
   "cell_type": "code",
   "execution_count": 56,
   "id": "f675e074",
   "metadata": {},
   "outputs": [
    {
     "data": {
      "text/plain": [
       "[1, 2, 3]"
      ]
     },
     "execution_count": 56,
     "metadata": {},
     "output_type": "execute_result"
    }
   ],
   "source": [
    "list1"
   ]
  },
  {
   "cell_type": "code",
   "execution_count": 58,
   "id": "9a928c47",
   "metadata": {},
   "outputs": [],
   "source": [
    "list1.append(4)"
   ]
  },
  {
   "cell_type": "code",
   "execution_count": 59,
   "id": "b501fd35",
   "metadata": {},
   "outputs": [
    {
     "data": {
      "text/plain": [
       "[1, 2, 3, 4]"
      ]
     },
     "execution_count": 59,
     "metadata": {},
     "output_type": "execute_result"
    }
   ],
   "source": [
    "list1"
   ]
  },
  {
   "cell_type": "code",
   "execution_count": 60,
   "id": "6af4e64e",
   "metadata": {},
   "outputs": [
    {
     "data": {
      "text/plain": [
       "4"
      ]
     },
     "execution_count": 60,
     "metadata": {},
     "output_type": "execute_result"
    }
   ],
   "source": [
    "list1.pop()"
   ]
  },
  {
   "cell_type": "code",
   "execution_count": 61,
   "id": "ef7df256",
   "metadata": {},
   "outputs": [
    {
     "data": {
      "text/plain": [
       "[1, 2, 3]"
      ]
     },
     "execution_count": 61,
     "metadata": {},
     "output_type": "execute_result"
    }
   ],
   "source": [
    "list1"
   ]
  },
  {
   "cell_type": "code",
   "execution_count": 62,
   "id": "e3a735b7",
   "metadata": {},
   "outputs": [],
   "source": [
    "list1.reverse()"
   ]
  },
  {
   "cell_type": "code",
   "execution_count": 63,
   "id": "3e97b97c",
   "metadata": {},
   "outputs": [
    {
     "data": {
      "text/plain": [
       "[3, 2, 1]"
      ]
     },
     "execution_count": 63,
     "metadata": {},
     "output_type": "execute_result"
    }
   ],
   "source": [
    "list1"
   ]
  },
  {
   "cell_type": "code",
   "execution_count": 64,
   "id": "2dfb22e4",
   "metadata": {},
   "outputs": [],
   "source": [
    "list1.sort()"
   ]
  },
  {
   "cell_type": "code",
   "execution_count": 65,
   "id": "42806a03",
   "metadata": {},
   "outputs": [
    {
     "data": {
      "text/plain": [
       "[1, 2, 3]"
      ]
     },
     "execution_count": 65,
     "metadata": {},
     "output_type": "execute_result"
    }
   ],
   "source": [
    "list1"
   ]
  },
  {
   "cell_type": "markdown",
   "id": "38b0c9da",
   "metadata": {},
   "source": [
    "<h2> Dictionaries </h2>"
   ]
  },
  {
   "cell_type": "code",
   "execution_count": 66,
   "id": "4d2d5e10",
   "metadata": {},
   "outputs": [],
   "source": [
    "my_books = {\"book1\": \"Dune\", \"book2\": \"Dune2\"}"
   ]
  },
  {
   "cell_type": "code",
   "execution_count": 67,
   "id": "e083917e",
   "metadata": {},
   "outputs": [
    {
     "name": "stdout",
     "output_type": "stream",
     "text": [
      "2\n"
     ]
    }
   ],
   "source": [
    "print(len(my_books))"
   ]
  },
  {
   "cell_type": "code",
   "execution_count": 69,
   "id": "8a72b923",
   "metadata": {},
   "outputs": [
    {
     "name": "stdout",
     "output_type": "stream",
     "text": [
      "dict_values(['Dune', 'Dune2'])\n"
     ]
    }
   ],
   "source": [
    "#values\n",
    "print(my_books.values())"
   ]
  },
  {
   "cell_type": "code",
   "execution_count": 70,
   "id": "dc1adee8",
   "metadata": {},
   "outputs": [
    {
     "name": "stdout",
     "output_type": "stream",
     "text": [
      "dict_keys(['book1', 'book2'])\n"
     ]
    }
   ],
   "source": [
    "print(my_books.keys())"
   ]
  },
  {
   "cell_type": "code",
   "execution_count": 73,
   "id": "bb177dce",
   "metadata": {},
   "outputs": [
    {
     "data": {
      "text/plain": [
       "'Dune'"
      ]
     },
     "execution_count": 73,
     "metadata": {},
     "output_type": "execute_result"
    }
   ],
   "source": [
    "my_books[\"book1\"] # specific key > value"
   ]
  },
  {
   "cell_type": "code",
   "execution_count": 78,
   "id": "b7f62f50",
   "metadata": {},
   "outputs": [
    {
     "name": "stdout",
     "output_type": "stream",
     "text": [
      "Dune\n",
      "Dune2\n"
     ]
    }
   ],
   "source": [
    "# loop through and provide values\n",
    "for item in my_books:\n",
    "    print(my_books[item])"
   ]
  },
  {
   "cell_type": "code",
   "execution_count": 83,
   "id": "1524cafb",
   "metadata": {},
   "outputs": [
    {
     "name": "stdout",
     "output_type": "stream",
     "text": [
      "DUNE\n"
     ]
    }
   ],
   "source": [
    "x = my_books[\"book1\"]\n",
    "print(x.upper())"
   ]
  },
  {
   "cell_type": "code",
   "execution_count": 84,
   "id": "ae0ff525",
   "metadata": {},
   "outputs": [],
   "source": [
    "# nested keys\n",
    "keys = {\"top_key\": {\"nested_key\": {\"3rd_level\": \"food\"}}}"
   ]
  },
  {
   "cell_type": "code",
   "execution_count": 85,
   "id": "e7cdb2d7",
   "metadata": {},
   "outputs": [
    {
     "name": "stdout",
     "output_type": "stream",
     "text": [
      "{'top_key': {'nested_key': {'3rd_level': 'food'}}}\n"
     ]
    }
   ],
   "source": [
    "print(keys)"
   ]
  },
  {
   "cell_type": "code",
   "execution_count": 90,
   "id": "28f42cd6",
   "metadata": {},
   "outputs": [
    {
     "name": "stdout",
     "output_type": "stream",
     "text": [
      "{'nested_key': {'3rd_level': 'food'}}\n"
     ]
    }
   ],
   "source": [
    "print(keys['top_key'])"
   ]
  },
  {
   "cell_type": "code",
   "execution_count": 92,
   "id": "557b1693",
   "metadata": {},
   "outputs": [
    {
     "data": {
      "text/plain": [
       "{'3rd_level': 'food'}"
      ]
     },
     "execution_count": 92,
     "metadata": {},
     "output_type": "execute_result"
    }
   ],
   "source": [
    "keys['top_key']['nested_key'] # nested keys"
   ]
  },
  {
   "cell_type": "code",
   "execution_count": 93,
   "id": "891585d0",
   "metadata": {},
   "outputs": [
    {
     "data": {
      "text/plain": [
       "dict_values([{'nested_key': {'3rd_level': 'food'}}])"
      ]
     },
     "execution_count": 93,
     "metadata": {},
     "output_type": "execute_result"
    }
   ],
   "source": [
    "# return values\n",
    "keys.values()"
   ]
  },
  {
   "cell_type": "code",
   "execution_count": 94,
   "id": "85950f7e",
   "metadata": {},
   "outputs": [
    {
     "data": {
      "text/plain": [
       "dict_items([('top_key', {'nested_key': {'3rd_level': 'food'}})])"
      ]
     },
     "execution_count": 94,
     "metadata": {},
     "output_type": "execute_result"
    }
   ],
   "source": [
    "keys.items()"
   ]
  },
  {
   "cell_type": "markdown",
   "id": "bce21d8f",
   "metadata": {},
   "source": [
    "<h2> Tuples </h2>"
   ]
  },
  {
   "cell_type": "code",
   "execution_count": 95,
   "id": "f772ff43",
   "metadata": {},
   "outputs": [],
   "source": [
    "t = (1,2,3)"
   ]
  },
  {
   "cell_type": "code",
   "execution_count": 96,
   "id": "ae2497ac",
   "metadata": {},
   "outputs": [
    {
     "data": {
      "text/plain": [
       "3"
      ]
     },
     "execution_count": 96,
     "metadata": {},
     "output_type": "execute_result"
    }
   ],
   "source": [
    "# length of tuple\n",
    "len(t)"
   ]
  },
  {
   "cell_type": "code",
   "execution_count": 97,
   "id": "465ba662",
   "metadata": {},
   "outputs": [
    {
     "data": {
      "text/plain": [
       "1"
      ]
     },
     "execution_count": 97,
     "metadata": {},
     "output_type": "execute_result"
    }
   ],
   "source": [
    "# index\n",
    "t[0]"
   ]
  },
  {
   "cell_type": "code",
   "execution_count": 99,
   "id": "37816786",
   "metadata": {},
   "outputs": [
    {
     "data": {
      "text/plain": [
       "3"
      ]
     },
     "execution_count": 99,
     "metadata": {},
     "output_type": "execute_result"
    }
   ],
   "source": [
    "t[-1]"
   ]
  },
  {
   "cell_type": "code",
   "execution_count": 100,
   "id": "29ee8d76",
   "metadata": {},
   "outputs": [
    {
     "name": "stdout",
     "output_type": "stream",
     "text": [
      "1\n",
      "2\n",
      "3\n"
     ]
    }
   ],
   "source": [
    "for num in t:\n",
    "    print(num)"
   ]
  },
  {
   "cell_type": "code",
   "execution_count": 101,
   "id": "044dc543",
   "metadata": {},
   "outputs": [
    {
     "data": {
      "text/plain": [
       "0"
      ]
     },
     "execution_count": 101,
     "metadata": {},
     "output_type": "execute_result"
    }
   ],
   "source": [
    "# tuple built-in methods\n",
    "t.index(1)"
   ]
  },
  {
   "cell_type": "code",
   "execution_count": 102,
   "id": "95268534",
   "metadata": {},
   "outputs": [
    {
     "data": {
      "text/plain": [
       "1"
      ]
     },
     "execution_count": 102,
     "metadata": {},
     "output_type": "execute_result"
    }
   ],
   "source": [
    "t.count(1)"
   ]
  },
  {
   "cell_type": "markdown",
   "id": "74125b08",
   "metadata": {},
   "source": [
    "<h2> Sets </h2>\n"
   ]
  },
  {
   "cell_type": "code",
   "execution_count": 103,
   "id": "1dcd22fa",
   "metadata": {},
   "outputs": [],
   "source": [
    "# create set\n",
    "x = set()"
   ]
  },
  {
   "cell_type": "code",
   "execution_count": 104,
   "id": "480b881a",
   "metadata": {},
   "outputs": [
    {
     "data": {
      "text/plain": [
       "set"
      ]
     },
     "execution_count": 104,
     "metadata": {},
     "output_type": "execute_result"
    }
   ],
   "source": [
    "type(x)"
   ]
  },
  {
   "cell_type": "code",
   "execution_count": 105,
   "id": "61febaac",
   "metadata": {},
   "outputs": [],
   "source": [
    "x.add(1)"
   ]
  },
  {
   "cell_type": "code",
   "execution_count": 106,
   "id": "a3671bee",
   "metadata": {},
   "outputs": [],
   "source": [
    "x.add(1)"
   ]
  },
  {
   "cell_type": "code",
   "execution_count": 107,
   "id": "88b641e2",
   "metadata": {},
   "outputs": [
    {
     "data": {
      "text/plain": [
       "{1}"
      ]
     },
     "execution_count": 107,
     "metadata": {},
     "output_type": "execute_result"
    }
   ],
   "source": [
    "x"
   ]
  },
  {
   "cell_type": "code",
   "execution_count": 108,
   "id": "5b91902c",
   "metadata": {},
   "outputs": [],
   "source": [
    "x.add(2)"
   ]
  },
  {
   "cell_type": "code",
   "execution_count": 109,
   "id": "0a467ebf",
   "metadata": {},
   "outputs": [
    {
     "data": {
      "text/plain": [
       "{1, 2}"
      ]
     },
     "execution_count": 109,
     "metadata": {},
     "output_type": "execute_result"
    }
   ],
   "source": [
    "x"
   ]
  },
  {
   "cell_type": "code",
   "execution_count": 110,
   "id": "e972e957",
   "metadata": {},
   "outputs": [],
   "source": [
    "x.add(1)"
   ]
  },
  {
   "cell_type": "code",
   "execution_count": 112,
   "id": "601cffb9",
   "metadata": {},
   "outputs": [
    {
     "data": {
      "text/plain": [
       "{1, 2}"
      ]
     },
     "execution_count": 112,
     "metadata": {},
     "output_type": "execute_result"
    }
   ],
   "source": [
    "x # no duplicate values"
   ]
  },
  {
   "cell_type": "code",
   "execution_count": 113,
   "id": "0cd67479",
   "metadata": {},
   "outputs": [
    {
     "data": {
      "text/plain": [
       "{1, 2}"
      ]
     },
     "execution_count": 113,
     "metadata": {},
     "output_type": "execute_result"
    }
   ],
   "source": [
    "# list with duplicate values\n",
    "dupe_list = [1,2,1,2,1,2,]\n",
    "# now get rid of dupes\n",
    "set(dupe_list)"
   ]
  },
  {
   "cell_type": "markdown",
   "id": "fda6e889",
   "metadata": {},
   "source": [
    "<h2> Access files </h2>\n"
   ]
  },
  {
   "cell_type": "code",
   "execution_count": 114,
   "id": "54d4b08e",
   "metadata": {},
   "outputs": [],
   "source": [
    "my_file = open('test.py')"
   ]
  },
  {
   "cell_type": "code",
   "execution_count": 115,
   "id": "b5908ef9",
   "metadata": {},
   "outputs": [
    {
     "data": {
      "text/plain": [
       "<_io.TextIOWrapper name='test.py' mode='r' encoding='UTF-8'>"
      ]
     },
     "execution_count": 115,
     "metadata": {},
     "output_type": "execute_result"
    }
   ],
   "source": [
    "my_file"
   ]
  },
  {
   "cell_type": "code",
   "execution_count": 116,
   "id": "1481f242",
   "metadata": {},
   "outputs": [
    {
     "data": {
      "text/plain": [
       "'print(\"hello world\")\\n'"
      ]
     },
     "execution_count": 116,
     "metadata": {},
     "output_type": "execute_result"
    }
   ],
   "source": [
    "my_file.read()"
   ]
  },
  {
   "cell_type": "code",
   "execution_count": 117,
   "id": "43247593",
   "metadata": {},
   "outputs": [
    {
     "data": {
      "text/plain": [
       "''"
      ]
     },
     "execution_count": 117,
     "metadata": {},
     "output_type": "execute_result"
    }
   ],
   "source": [
    "my_file.read() # doesn't work second time w/o reset cursor"
   ]
  },
  {
   "cell_type": "code",
   "execution_count": 118,
   "id": "6bedcd61",
   "metadata": {},
   "outputs": [
    {
     "data": {
      "text/plain": [
       "'print(\"hello world\")\\n'"
      ]
     },
     "execution_count": 118,
     "metadata": {},
     "output_type": "execute_result"
    }
   ],
   "source": [
    "# boom, cursor reset > can read again\n",
    "my_file.seek(0)\n",
    "my_file.read()"
   ]
  },
  {
   "cell_type": "code",
   "execution_count": 119,
   "id": "852768f2",
   "metadata": {},
   "outputs": [],
   "source": [
    "# now read AND write!\n",
    "my_file2 = open('test.py','a+') # append, vs 'w' or 'w+' which will overwrite"
   ]
  },
  {
   "cell_type": "code",
   "execution_count": 120,
   "id": "5b041e19",
   "metadata": {},
   "outputs": [
    {
     "data": {
      "text/plain": [
       "18"
      ]
     },
     "execution_count": 120,
     "metadata": {},
     "output_type": "execute_result"
    }
   ],
   "source": [
    "my_file2.write(\"this is a new line\")"
   ]
  },
  {
   "cell_type": "code",
   "execution_count": 121,
   "id": "a3e79958",
   "metadata": {},
   "outputs": [
    {
     "data": {
      "text/plain": [
       "'print(\"hello world\")\\nthis is a new line'"
      ]
     },
     "execution_count": 121,
     "metadata": {},
     "output_type": "execute_result"
    }
   ],
   "source": [
    "my_file2.seek(0) # cursor reset\n",
    "my_file2.read()"
   ]
  },
  {
   "cell_type": "code",
   "execution_count": 123,
   "id": "61193641",
   "metadata": {},
   "outputs": [
    {
     "name": "stdout",
     "output_type": "stream",
     "text": [
      "print(\"hello world\")\n",
      "this is a new line\n"
     ]
    }
   ],
   "source": [
    "my_file2.seek(0)\n",
    "print(my_file2.read())\n",
    "# see the original text line and appended text. behold!"
   ]
  },
  {
   "cell_type": "code",
   "execution_count": 125,
   "id": "1672ef6e",
   "metadata": {},
   "outputs": [
    {
     "name": "stdout",
     "output_type": "stream",
     "text": [
      "print(\"hello world\")\n",
      "\n",
      "this is a new line\n"
     ]
    }
   ],
   "source": [
    "# iterate through text\n",
    "for line in open('test.py'):\n",
    "    print(line)\n",
    "# because read() was not used, all the text wasn't loaded into memory"
   ]
  },
  {
   "cell_type": "markdown",
   "id": "36242dd9",
   "metadata": {},
   "source": [
    "<h1> Python Statements </h1>\n"
   ]
  },
  {
   "cell_type": "code",
   "execution_count": 126,
   "id": "de881f3d",
   "metadata": {},
   "outputs": [
    {
     "name": "stdout",
     "output_type": "stream",
     "text": [
      "5\n"
     ]
    }
   ],
   "source": [
    "# if, elif, else statements\n",
    "x = 5\n",
    "if x < 5:\n",
    "    print(\"less than 5\")\n",
    "elif x == 5:\n",
    "    print('5')"
   ]
  },
  {
   "cell_type": "code",
   "execution_count": 129,
   "id": "1ccfabf1",
   "metadata": {},
   "outputs": [
    {
     "name": "stdout",
     "output_type": "stream",
     "text": [
      "what #?4\n",
      " # is < 5\n"
     ]
    }
   ],
   "source": [
    "x = int(input(\"what #?\"))\n",
    "if x < 5:\n",
    "    print(\" # is < 5\")\n",
    "elif x == 5:\n",
    "    print(\"5\")\n",
    "else:\n",
    "    print(\"> 5\")"
   ]
  },
  {
   "cell_type": "code",
   "execution_count": 131,
   "id": "ce5b08d3",
   "metadata": {},
   "outputs": [
    {
     "name": "stdout",
     "output_type": "stream",
     "text": [
      "even 2\n",
      "even 4\n"
     ]
    }
   ],
   "source": [
    "# for loops\n",
    "list1 = [1,2,3,4,5]\n",
    "\n",
    "for x in list1:\n",
    "    if x % 2 == 0:\n",
    "        print(\"even\",x)"
   ]
  },
  {
   "cell_type": "code",
   "execution_count": null,
   "id": "b137f2b3",
   "metadata": {},
   "outputs": [],
   "source": []
  }
 ],
 "metadata": {
  "kernelspec": {
   "display_name": "Python 3 (ipykernel)",
   "language": "python",
   "name": "python3"
  },
  "language_info": {
   "codemirror_mode": {
    "name": "ipython",
    "version": 3
   },
   "file_extension": ".py",
   "mimetype": "text/x-python",
   "name": "python",
   "nbconvert_exporter": "python",
   "pygments_lexer": "ipython3",
   "version": "3.10.9"
  }
 },
 "nbformat": 4,
 "nbformat_minor": 5
}
