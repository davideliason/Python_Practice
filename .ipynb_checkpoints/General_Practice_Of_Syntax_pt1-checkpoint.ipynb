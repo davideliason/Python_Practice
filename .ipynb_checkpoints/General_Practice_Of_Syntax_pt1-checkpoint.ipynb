{
 "cells": [
  {
   "cell_type": "code",
   "execution_count": 23,
   "id": "510ff5a2",
   "metadata": {},
   "outputs": [],
   "source": [
    "str1 = \"hello\""
   ]
  },
  {
   "cell_type": "code",
   "execution_count": 24,
   "id": "5a07e37e",
   "metadata": {},
   "outputs": [],
   "source": [
    "str2 = \"world\""
   ]
  },
  {
   "cell_type": "code",
   "execution_count": 25,
   "id": "c7bad78d",
   "metadata": {},
   "outputs": [],
   "source": [
    "str3 = \"!\""
   ]
  },
  {
   "cell_type": "code",
   "execution_count": 26,
   "id": "347df221",
   "metadata": {},
   "outputs": [],
   "source": [
    "concat_str = str1 + \" \"+ str2 + \" \" + str3"
   ]
  },
  {
   "cell_type": "code",
   "execution_count": 28,
   "id": "512f6e57",
   "metadata": {},
   "outputs": [
    {
     "name": "stdout",
     "output_type": "stream",
     "text": [
      "13\n"
     ]
    }
   ],
   "source": [
    "print(len(concat_str))"
   ]
  },
  {
   "cell_type": "code",
   "execution_count": 29,
   "id": "1bb0cef3",
   "metadata": {},
   "outputs": [
    {
     "name": "stdout",
     "output_type": "stream",
     "text": [
      "['hello', 'world', '!']\n"
     ]
    }
   ],
   "source": [
    "print(concat_str.split())"
   ]
  },
  {
   "cell_type": "code",
   "execution_count": 30,
   "id": "0e8e3054",
   "metadata": {},
   "outputs": [],
   "source": [
    "split_str = concat_str.split()"
   ]
  },
  {
   "cell_type": "code",
   "execution_count": 31,
   "id": "869b422d",
   "metadata": {},
   "outputs": [
    {
     "name": "stdout",
     "output_type": "stream",
     "text": [
      "['hello', 'world', '!']\n"
     ]
    }
   ],
   "source": [
    "print(split_str)"
   ]
  },
  {
   "cell_type": "code",
   "execution_count": 38,
   "id": "b37191a9",
   "metadata": {
    "scrolled": true
   },
   "outputs": [
    {
     "name": "stdout",
     "output_type": "stream",
     "text": [
      "hello\n",
      "hello, this is world world\n",
      "world\n",
      "!\n"
     ]
    }
   ],
   "source": [
    "# simple loop\n",
    "for x in split_str:\n",
    "    if x == \"world\":\n",
    "        print(\"hello, this is world\", x)\n",
    "    print(x)"
   ]
  },
  {
   "cell_type": "code",
   "execution_count": 45,
   "id": "c41a090d",
   "metadata": {},
   "outputs": [
    {
     "data": {
      "text/plain": [
       "['he', '', 'o']"
      ]
     },
     "execution_count": 45,
     "metadata": {},
     "output_type": "execute_result"
    }
   ],
   "source": [
    "str1.upper().lower().split(\"l\") #multiple methods"
   ]
  },
  {
   "cell_type": "markdown",
   "id": "59909407",
   "metadata": {},
   "source": [
    "<h2> formatting </h2>"
   ]
  },
  {
   "cell_type": "code",
   "execution_count": 46,
   "id": "df00a88d",
   "metadata": {},
   "outputs": [
    {
     "name": "stdout",
     "output_type": "stream",
     "text": [
      "this is using .format method\n"
     ]
    }
   ],
   "source": [
    "print(\"this is using .format {}\".format(\"method\"))"
   ]
  },
  {
   "cell_type": "code",
   "execution_count": 47,
   "id": "9076d8c2",
   "metadata": {},
   "outputs": [
    {
     "name": "stdout",
     "output_type": "stream",
     "text": [
      "this is first and second\n"
     ]
    }
   ],
   "source": [
    "print(\"this is {a} and {b}\".format(a=\"first\", b=\"second\"))"
   ]
  },
  {
   "cell_type": "markdown",
   "id": "044e975e",
   "metadata": {},
   "source": [
    "<h2> Lists </h2>"
   ]
  },
  {
   "cell_type": "code",
   "execution_count": 48,
   "id": "c971d1bb",
   "metadata": {},
   "outputs": [],
   "source": [
    "list1 = [1,2,3]"
   ]
  },
  {
   "cell_type": "code",
   "execution_count": 49,
   "id": "256a2ee4",
   "metadata": {},
   "outputs": [
    {
     "name": "stdout",
     "output_type": "stream",
     "text": [
      "3\n"
     ]
    }
   ],
   "source": [
    "print(len(list1))"
   ]
  },
  {
   "cell_type": "code",
   "execution_count": 51,
   "id": "aaab328a",
   "metadata": {},
   "outputs": [
    {
     "name": "stdout",
     "output_type": "stream",
     "text": [
      "This is 1\n",
      "This is 2\n",
      "This is 3\n"
     ]
    }
   ],
   "source": [
    "#loop through list and stdout using .format method\n",
    "for num in list1:\n",
    "    print(\"This is {x}\".format(x=num))"
   ]
  },
  {
   "cell_type": "code",
   "execution_count": 52,
   "id": "ea054693",
   "metadata": {},
   "outputs": [
    {
     "data": {
      "text/plain": [
       "1"
      ]
     },
     "execution_count": 52,
     "metadata": {},
     "output_type": "execute_result"
    }
   ],
   "source": [
    "list1[0]"
   ]
  },
  {
   "cell_type": "code",
   "execution_count": 53,
   "id": "f63b757e",
   "metadata": {},
   "outputs": [
    {
     "data": {
      "text/plain": [
       "[1, 2, 3]"
      ]
     },
     "execution_count": 53,
     "metadata": {},
     "output_type": "execute_result"
    }
   ],
   "source": [
    "list1[0:]"
   ]
  },
  {
   "cell_type": "code",
   "execution_count": 54,
   "id": "2f4ac177",
   "metadata": {},
   "outputs": [
    {
     "data": {
      "text/plain": [
       "[1, 2]"
      ]
     },
     "execution_count": 54,
     "metadata": {},
     "output_type": "execute_result"
    }
   ],
   "source": [
    "list1[:2] # everything up to index loc 2"
   ]
  },
  {
   "cell_type": "code",
   "execution_count": 55,
   "id": "b0dedfd8",
   "metadata": {},
   "outputs": [
    {
     "name": "stdout",
     "output_type": "stream",
     "text": [
      "[1, 2, 3, 4, 5, 6]\n"
     ]
    }
   ],
   "source": [
    "# concat lists\n",
    "list2 = [4,5,6]\n",
    "list_sum = list1 + list2\n",
    "print(list_sum)"
   ]
  },
  {
   "cell_type": "code",
   "execution_count": 56,
   "id": "50f7de0f",
   "metadata": {},
   "outputs": [
    {
     "data": {
      "text/plain": [
       "[1, 2, 3]"
      ]
     },
     "execution_count": 56,
     "metadata": {},
     "output_type": "execute_result"
    }
   ],
   "source": [
    "list1"
   ]
  },
  {
   "cell_type": "code",
   "execution_count": 58,
   "id": "ce4d7c6e",
   "metadata": {},
   "outputs": [],
   "source": [
    "list1.append(4)"
   ]
  },
  {
   "cell_type": "code",
   "execution_count": 59,
   "id": "4265bd5e",
   "metadata": {},
   "outputs": [
    {
     "data": {
      "text/plain": [
       "[1, 2, 3, 4]"
      ]
     },
     "execution_count": 59,
     "metadata": {},
     "output_type": "execute_result"
    }
   ],
   "source": [
    "list1"
   ]
  },
  {
   "cell_type": "code",
   "execution_count": 60,
   "id": "3aaade17",
   "metadata": {},
   "outputs": [
    {
     "data": {
      "text/plain": [
       "4"
      ]
     },
     "execution_count": 60,
     "metadata": {},
     "output_type": "execute_result"
    }
   ],
   "source": [
    "list1.pop()"
   ]
  },
  {
   "cell_type": "code",
   "execution_count": 61,
   "id": "3f544416",
   "metadata": {},
   "outputs": [
    {
     "data": {
      "text/plain": [
       "[1, 2, 3]"
      ]
     },
     "execution_count": 61,
     "metadata": {},
     "output_type": "execute_result"
    }
   ],
   "source": [
    "list1"
   ]
  },
  {
   "cell_type": "code",
   "execution_count": 62,
   "id": "7c3799c8",
   "metadata": {},
   "outputs": [],
   "source": [
    "list1.reverse()"
   ]
  },
  {
   "cell_type": "code",
   "execution_count": 63,
   "id": "0cfceba9",
   "metadata": {},
   "outputs": [
    {
     "data": {
      "text/plain": [
       "[3, 2, 1]"
      ]
     },
     "execution_count": 63,
     "metadata": {},
     "output_type": "execute_result"
    }
   ],
   "source": [
    "list1"
   ]
  },
  {
   "cell_type": "code",
   "execution_count": 64,
   "id": "f08c19f7",
   "metadata": {},
   "outputs": [],
   "source": [
    "list1.sort()"
   ]
  },
  {
   "cell_type": "code",
   "execution_count": 65,
   "id": "134fbffb",
   "metadata": {},
   "outputs": [
    {
     "data": {
      "text/plain": [
       "[1, 2, 3]"
      ]
     },
     "execution_count": 65,
     "metadata": {},
     "output_type": "execute_result"
    }
   ],
   "source": [
    "list1"
   ]
  },
  {
   "cell_type": "markdown",
   "id": "c40cffbe",
   "metadata": {},
   "source": [
    "<h2> Dictionaries </h2>"
   ]
  },
  {
   "cell_type": "code",
   "execution_count": 66,
   "id": "bbf06c9e",
   "metadata": {},
   "outputs": [],
   "source": [
    "my_books = {\"book1\": \"Dune\", \"book2\": \"Dune2\"}"
   ]
  },
  {
   "cell_type": "code",
   "execution_count": 67,
   "id": "64699e1c",
   "metadata": {},
   "outputs": [
    {
     "name": "stdout",
     "output_type": "stream",
     "text": [
      "2\n"
     ]
    }
   ],
   "source": [
    "print(len(my_books))"
   ]
  },
  {
   "cell_type": "code",
   "execution_count": 69,
   "id": "c7c33a4f",
   "metadata": {},
   "outputs": [
    {
     "name": "stdout",
     "output_type": "stream",
     "text": [
      "dict_values(['Dune', 'Dune2'])\n"
     ]
    }
   ],
   "source": [
    "#values\n",
    "print(my_books.values())"
   ]
  },
  {
   "cell_type": "code",
   "execution_count": 70,
   "id": "a3b6d86a",
   "metadata": {},
   "outputs": [
    {
     "name": "stdout",
     "output_type": "stream",
     "text": [
      "dict_keys(['book1', 'book2'])\n"
     ]
    }
   ],
   "source": [
    "print(my_books.keys())"
   ]
  },
  {
   "cell_type": "code",
   "execution_count": 73,
   "id": "b2dd25f0",
   "metadata": {},
   "outputs": [
    {
     "data": {
      "text/plain": [
       "'Dune'"
      ]
     },
     "execution_count": 73,
     "metadata": {},
     "output_type": "execute_result"
    }
   ],
   "source": [
    "my_books[\"book1\"] # specific key > value"
   ]
  },
  {
   "cell_type": "code",
   "execution_count": 78,
   "id": "90d6d6b9",
   "metadata": {},
   "outputs": [
    {
     "name": "stdout",
     "output_type": "stream",
     "text": [
      "Dune\n",
      "Dune2\n"
     ]
    }
   ],
   "source": [
    "# loop through and provide values\n",
    "for item in my_books:\n",
    "    print(my_books[item])"
   ]
  },
  {
   "cell_type": "code",
   "execution_count": 83,
   "id": "eada1e39",
   "metadata": {},
   "outputs": [
    {
     "name": "stdout",
     "output_type": "stream",
     "text": [
      "DUNE\n"
     ]
    }
   ],
   "source": [
    "x = my_books[\"book1\"]\n",
    "print(x.upper())"
   ]
  },
  {
   "cell_type": "code",
   "execution_count": 84,
   "id": "ed7bc620",
   "metadata": {},
   "outputs": [],
   "source": [
    "# nested keys\n",
    "keys = {\"top_key\": {\"nested_key\": {\"3rd_level\": \"food\"}}}"
   ]
  },
  {
   "cell_type": "code",
   "execution_count": 85,
   "id": "ceab24e3",
   "metadata": {},
   "outputs": [
    {
     "name": "stdout",
     "output_type": "stream",
     "text": [
      "{'top_key': {'nested_key': {'3rd_level': 'food'}}}\n"
     ]
    }
   ],
   "source": [
    "print(keys)"
   ]
  },
  {
   "cell_type": "code",
   "execution_count": 90,
   "id": "1dba4cf9",
   "metadata": {},
   "outputs": [
    {
     "name": "stdout",
     "output_type": "stream",
     "text": [
      "{'nested_key': {'3rd_level': 'food'}}\n"
     ]
    }
   ],
   "source": [
    "print(keys['top_key'])"
   ]
  },
  {
   "cell_type": "code",
   "execution_count": 92,
   "id": "3e74480d",
   "metadata": {},
   "outputs": [
    {
     "data": {
      "text/plain": [
       "{'3rd_level': 'food'}"
      ]
     },
     "execution_count": 92,
     "metadata": {},
     "output_type": "execute_result"
    }
   ],
   "source": [
    "keys['top_key']['nested_key'] # nested keys"
   ]
  },
  {
   "cell_type": "code",
   "execution_count": 93,
   "id": "217658c8",
   "metadata": {},
   "outputs": [
    {
     "data": {
      "text/plain": [
       "dict_values([{'nested_key': {'3rd_level': 'food'}}])"
      ]
     },
     "execution_count": 93,
     "metadata": {},
     "output_type": "execute_result"
    }
   ],
   "source": [
    "# return values\n",
    "keys.values()"
   ]
  },
  {
   "cell_type": "code",
   "execution_count": 94,
   "id": "f206ee87",
   "metadata": {},
   "outputs": [
    {
     "data": {
      "text/plain": [
       "dict_items([('top_key', {'nested_key': {'3rd_level': 'food'}})])"
      ]
     },
     "execution_count": 94,
     "metadata": {},
     "output_type": "execute_result"
    }
   ],
   "source": [
    "keys.items()"
   ]
  },
  {
   "cell_type": "markdown",
   "id": "903bf24f",
   "metadata": {},
   "source": [
    "<h2> Tuples </h2>"
   ]
  },
  {
   "cell_type": "code",
   "execution_count": 95,
   "id": "e1a1ee3d",
   "metadata": {},
   "outputs": [],
   "source": [
    "t = (1,2,3)"
   ]
  },
  {
   "cell_type": "code",
   "execution_count": 96,
   "id": "01dc8ca5",
   "metadata": {},
   "outputs": [
    {
     "data": {
      "text/plain": [
       "3"
      ]
     },
     "execution_count": 96,
     "metadata": {},
     "output_type": "execute_result"
    }
   ],
   "source": [
    "# length of tuple\n",
    "len(t)"
   ]
  },
  {
   "cell_type": "code",
   "execution_count": 97,
   "id": "0fc22b3c",
   "metadata": {},
   "outputs": [
    {
     "data": {
      "text/plain": [
       "1"
      ]
     },
     "execution_count": 97,
     "metadata": {},
     "output_type": "execute_result"
    }
   ],
   "source": [
    "# index\n",
    "t[0]"
   ]
  },
  {
   "cell_type": "code",
   "execution_count": 99,
   "id": "5513ce05",
   "metadata": {},
   "outputs": [
    {
     "data": {
      "text/plain": [
       "3"
      ]
     },
     "execution_count": 99,
     "metadata": {},
     "output_type": "execute_result"
    }
   ],
   "source": [
    "t[-1]"
   ]
  },
  {
   "cell_type": "code",
   "execution_count": 100,
   "id": "f221f9df",
   "metadata": {},
   "outputs": [
    {
     "name": "stdout",
     "output_type": "stream",
     "text": [
      "1\n",
      "2\n",
      "3\n"
     ]
    }
   ],
   "source": [
    "for num in t:\n",
    "    print(num)"
   ]
  },
  {
   "cell_type": "code",
   "execution_count": 101,
   "id": "e932bd11",
   "metadata": {},
   "outputs": [
    {
     "data": {
      "text/plain": [
       "0"
      ]
     },
     "execution_count": 101,
     "metadata": {},
     "output_type": "execute_result"
    }
   ],
   "source": [
    "# tuple built-in methods\n",
    "t.index(1)"
   ]
  },
  {
   "cell_type": "code",
   "execution_count": 102,
   "id": "9ae28a95",
   "metadata": {},
   "outputs": [
    {
     "data": {
      "text/plain": [
       "1"
      ]
     },
     "execution_count": 102,
     "metadata": {},
     "output_type": "execute_result"
    }
   ],
   "source": [
    "t.count(1)"
   ]
  },
  {
   "cell_type": "markdown",
   "id": "6a0e742d",
   "metadata": {},
   "source": [
    "<h2> Sets </h2>\n"
   ]
  },
  {
   "cell_type": "code",
   "execution_count": 103,
   "id": "7cf972e5",
   "metadata": {},
   "outputs": [],
   "source": [
    "# create set\n",
    "x = set()"
   ]
  },
  {
   "cell_type": "code",
   "execution_count": 104,
   "id": "40da694c",
   "metadata": {},
   "outputs": [
    {
     "data": {
      "text/plain": [
       "set"
      ]
     },
     "execution_count": 104,
     "metadata": {},
     "output_type": "execute_result"
    }
   ],
   "source": [
    "type(x)"
   ]
  },
  {
   "cell_type": "code",
   "execution_count": 105,
   "id": "2df9ec1c",
   "metadata": {},
   "outputs": [],
   "source": [
    "x.add(1)"
   ]
  },
  {
   "cell_type": "code",
   "execution_count": 106,
   "id": "c2301a66",
   "metadata": {},
   "outputs": [],
   "source": [
    "x.add(1)"
   ]
  },
  {
   "cell_type": "code",
   "execution_count": 107,
   "id": "e59795ca",
   "metadata": {},
   "outputs": [
    {
     "data": {
      "text/plain": [
       "{1}"
      ]
     },
     "execution_count": 107,
     "metadata": {},
     "output_type": "execute_result"
    }
   ],
   "source": [
    "x"
   ]
  },
  {
   "cell_type": "code",
   "execution_count": 108,
   "id": "a11337e5",
   "metadata": {},
   "outputs": [],
   "source": [
    "x.add(2)"
   ]
  },
  {
   "cell_type": "code",
   "execution_count": 109,
   "id": "3b3b82cf",
   "metadata": {},
   "outputs": [
    {
     "data": {
      "text/plain": [
       "{1, 2}"
      ]
     },
     "execution_count": 109,
     "metadata": {},
     "output_type": "execute_result"
    }
   ],
   "source": [
    "x"
   ]
  },
  {
   "cell_type": "code",
   "execution_count": 110,
   "id": "cd737075",
   "metadata": {},
   "outputs": [],
   "source": [
    "x.add(1)"
   ]
  },
  {
   "cell_type": "code",
   "execution_count": 112,
   "id": "55680788",
   "metadata": {},
   "outputs": [
    {
     "data": {
      "text/plain": [
       "{1, 2}"
      ]
     },
     "execution_count": 112,
     "metadata": {},
     "output_type": "execute_result"
    }
   ],
   "source": [
    "x # no duplicate values"
   ]
  },
  {
   "cell_type": "code",
   "execution_count": 113,
   "id": "f7652d41",
   "metadata": {},
   "outputs": [
    {
     "data": {
      "text/plain": [
       "{1, 2}"
      ]
     },
     "execution_count": 113,
     "metadata": {},
     "output_type": "execute_result"
    }
   ],
   "source": [
    "# list with duplicate values\n",
    "dupe_list = [1,2,1,2,1,2,]\n",
    "# now get rid of dupes\n",
    "set(dupe_list)"
   ]
  },
  {
   "cell_type": "markdown",
   "id": "914d79f0",
   "metadata": {},
   "source": [
    "<h2> Access files </h2>\n"
   ]
  },
  {
   "cell_type": "code",
   "execution_count": 114,
   "id": "803053bf",
   "metadata": {},
   "outputs": [],
   "source": [
    "my_file = open('test.py')"
   ]
  },
  {
   "cell_type": "code",
   "execution_count": 115,
   "id": "e128c355",
   "metadata": {},
   "outputs": [
    {
     "data": {
      "text/plain": [
       "<_io.TextIOWrapper name='test.py' mode='r' encoding='UTF-8'>"
      ]
     },
     "execution_count": 115,
     "metadata": {},
     "output_type": "execute_result"
    }
   ],
   "source": [
    "my_file"
   ]
  },
  {
   "cell_type": "code",
   "execution_count": 116,
   "id": "55ea5907",
   "metadata": {},
   "outputs": [
    {
     "data": {
      "text/plain": [
       "'print(\"hello world\")\\n'"
      ]
     },
     "execution_count": 116,
     "metadata": {},
     "output_type": "execute_result"
    }
   ],
   "source": [
    "my_file.read()"
   ]
  },
  {
   "cell_type": "code",
   "execution_count": 117,
   "id": "ba8f39f2",
   "metadata": {},
   "outputs": [
    {
     "data": {
      "text/plain": [
       "''"
      ]
     },
     "execution_count": 117,
     "metadata": {},
     "output_type": "execute_result"
    }
   ],
   "source": [
    "my_file.read() # doesn't work second time w/o reset cursor"
   ]
  },
  {
   "cell_type": "code",
   "execution_count": 118,
   "id": "9e695e57",
   "metadata": {},
   "outputs": [
    {
     "data": {
      "text/plain": [
       "'print(\"hello world\")\\n'"
      ]
     },
     "execution_count": 118,
     "metadata": {},
     "output_type": "execute_result"
    }
   ],
   "source": [
    "# boom, cursor reset > can read again\n",
    "my_file.seek(0)\n",
    "my_file.read()"
   ]
  },
  {
   "cell_type": "code",
   "execution_count": 119,
   "id": "483480ef",
   "metadata": {},
   "outputs": [],
   "source": [
    "# now read AND write!\n",
    "my_file2 = open('test.py','a+') # append, vs 'w' or 'w+' which will overwrite"
   ]
  },
  {
   "cell_type": "code",
   "execution_count": 120,
   "id": "f5882291",
   "metadata": {},
   "outputs": [
    {
     "data": {
      "text/plain": [
       "18"
      ]
     },
     "execution_count": 120,
     "metadata": {},
     "output_type": "execute_result"
    }
   ],
   "source": [
    "my_file2.write(\"this is a new line\")"
   ]
  },
  {
   "cell_type": "code",
   "execution_count": 121,
   "id": "3d49d529",
   "metadata": {},
   "outputs": [
    {
     "data": {
      "text/plain": [
       "'print(\"hello world\")\\nthis is a new line'"
      ]
     },
     "execution_count": 121,
     "metadata": {},
     "output_type": "execute_result"
    }
   ],
   "source": [
    "my_file2.seek(0) # cursor reset\n",
    "my_file2.read()"
   ]
  },
  {
   "cell_type": "code",
   "execution_count": 123,
   "id": "f7de287d",
   "metadata": {},
   "outputs": [
    {
     "name": "stdout",
     "output_type": "stream",
     "text": [
      "print(\"hello world\")\n",
      "this is a new line\n"
     ]
    }
   ],
   "source": [
    "my_file2.seek(0)\n",
    "print(my_file2.read())\n",
    "# see the original text line and appended text. behold!"
   ]
  },
  {
   "cell_type": "code",
   "execution_count": null,
   "id": "8ecc12a1",
   "metadata": {},
   "outputs": [],
   "source": []
  }
 ],
 "metadata": {
  "kernelspec": {
   "display_name": "Python 3 (ipykernel)",
   "language": "python",
   "name": "python3"
  },
  "language_info": {
   "codemirror_mode": {
    "name": "ipython",
    "version": 3
   },
   "file_extension": ".py",
   "mimetype": "text/x-python",
   "name": "python",
   "nbconvert_exporter": "python",
   "pygments_lexer": "ipython3",
   "version": "3.10.9"
  }
 },
 "nbformat": 4,
 "nbformat_minor": 5
}
