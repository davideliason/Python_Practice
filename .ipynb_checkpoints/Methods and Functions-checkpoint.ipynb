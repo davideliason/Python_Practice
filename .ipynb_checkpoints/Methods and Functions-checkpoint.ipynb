{
 "cells": [
  {
   "cell_type": "code",
   "execution_count": 1,
   "id": "c9f922ef",
   "metadata": {},
   "outputs": [],
   "source": [
    "lst = [1,2,3,4,5]"
   ]
  },
  {
   "cell_type": "code",
   "execution_count": 2,
   "id": "11c52e29",
   "metadata": {},
   "outputs": [],
   "source": [
    "lst.append(6)"
   ]
  },
  {
   "cell_type": "code",
   "execution_count": 3,
   "id": "f42b907d",
   "metadata": {},
   "outputs": [
    {
     "data": {
      "text/plain": [
       "[1, 2, 3, 4, 5, 6]"
      ]
     },
     "execution_count": 3,
     "metadata": {},
     "output_type": "execute_result"
    }
   ],
   "source": [
    "lst"
   ]
  },
  {
   "cell_type": "code",
   "execution_count": 5,
   "id": "13e0b061",
   "metadata": {},
   "outputs": [
    {
     "data": {
      "text/plain": [
       "1"
      ]
     },
     "execution_count": 5,
     "metadata": {},
     "output_type": "execute_result"
    }
   ],
   "source": [
    "lst.count(2)"
   ]
  },
  {
   "cell_type": "code",
   "execution_count": 6,
   "id": "4e2001ea",
   "metadata": {},
   "outputs": [],
   "source": [
    "lst.extend([7,8,9])"
   ]
  },
  {
   "cell_type": "code",
   "execution_count": 7,
   "id": "ef6b9ff1",
   "metadata": {},
   "outputs": [
    {
     "data": {
      "text/plain": [
       "[1, 2, 3, 4, 5, 6, 7, 8, 9]"
      ]
     },
     "execution_count": 7,
     "metadata": {},
     "output_type": "execute_result"
    }
   ],
   "source": [
    "lst"
   ]
  },
  {
   "cell_type": "code",
   "execution_count": 9,
   "id": "42ef505e",
   "metadata": {},
   "outputs": [],
   "source": [
    "lst.insert(55,0)"
   ]
  },
  {
   "cell_type": "code",
   "execution_count": 10,
   "id": "69e4aecb",
   "metadata": {},
   "outputs": [
    {
     "data": {
      "text/plain": [
       "[1, 2, 3, 4, 5, 6, 7, 8, 9, 0]"
      ]
     },
     "execution_count": 10,
     "metadata": {},
     "output_type": "execute_result"
    }
   ],
   "source": [
    "lst"
   ]
  },
  {
   "cell_type": "code",
   "execution_count": 11,
   "id": "2c881f0b",
   "metadata": {},
   "outputs": [],
   "source": [
    "lst.insert(15,2)"
   ]
  },
  {
   "cell_type": "code",
   "execution_count": 12,
   "id": "480ffb3f",
   "metadata": {},
   "outputs": [
    {
     "data": {
      "text/plain": [
       "[1, 2, 3, 4, 5, 6, 7, 8, 9, 0, 2]"
      ]
     },
     "execution_count": 12,
     "metadata": {},
     "output_type": "execute_result"
    }
   ],
   "source": [
    "lst"
   ]
  },
  {
   "cell_type": "code",
   "execution_count": 13,
   "id": "27f6a539",
   "metadata": {},
   "outputs": [],
   "source": [
    "lst.insert(1,\"blue\")"
   ]
  },
  {
   "cell_type": "code",
   "execution_count": 14,
   "id": "cf10e700",
   "metadata": {},
   "outputs": [
    {
     "data": {
      "text/plain": [
       "[1, 'blue', 2, 3, 4, 5, 6, 7, 8, 9, 0, 2]"
      ]
     },
     "execution_count": 14,
     "metadata": {},
     "output_type": "execute_result"
    }
   ],
   "source": [
    "lst"
   ]
  },
  {
   "cell_type": "code",
   "execution_count": 15,
   "id": "847e64ee",
   "metadata": {},
   "outputs": [],
   "source": [
    "lst.insert(0,0)"
   ]
  },
  {
   "cell_type": "code",
   "execution_count": 16,
   "id": "91709a31",
   "metadata": {},
   "outputs": [
    {
     "data": {
      "text/plain": [
       "[0, 1, 'blue', 2, 3, 4, 5, 6, 7, 8, 9, 0, 2]"
      ]
     },
     "execution_count": 16,
     "metadata": {},
     "output_type": "execute_result"
    }
   ],
   "source": [
    "lst"
   ]
  },
  {
   "cell_type": "code",
   "execution_count": 17,
   "id": "d2abf78e",
   "metadata": {},
   "outputs": [
    {
     "data": {
      "text/plain": [
       "2"
      ]
     },
     "execution_count": 17,
     "metadata": {},
     "output_type": "execute_result"
    }
   ],
   "source": [
    "lst.pop()"
   ]
  },
  {
   "cell_type": "code",
   "execution_count": 18,
   "id": "51128429",
   "metadata": {},
   "outputs": [
    {
     "data": {
      "text/plain": [
       "[0, 1, 'blue', 2, 3, 4, 5, 6, 7, 8, 9, 0]"
      ]
     },
     "execution_count": 18,
     "metadata": {},
     "output_type": "execute_result"
    }
   ],
   "source": [
    "lst"
   ]
  },
  {
   "cell_type": "code",
   "execution_count": 19,
   "id": "7f3b3d20",
   "metadata": {},
   "outputs": [],
   "source": [
    "lst.remove('blue')"
   ]
  },
  {
   "cell_type": "code",
   "execution_count": 20,
   "id": "c3ef7f84",
   "metadata": {},
   "outputs": [
    {
     "data": {
      "text/plain": [
       "[0, 1, 2, 3, 4, 5, 6, 7, 8, 9, 0]"
      ]
     },
     "execution_count": 20,
     "metadata": {},
     "output_type": "execute_result"
    }
   ],
   "source": [
    "lst"
   ]
  },
  {
   "cell_type": "code",
   "execution_count": 21,
   "id": "8637e716",
   "metadata": {},
   "outputs": [
    {
     "data": {
      "text/plain": [
       "[0, 1, 2, 3, 4, 5, 6, 7, 8, 9, 0]"
      ]
     },
     "execution_count": 21,
     "metadata": {},
     "output_type": "execute_result"
    }
   ],
   "source": [
    "lst"
   ]
  },
  {
   "cell_type": "code",
   "execution_count": 22,
   "id": "b8362bef",
   "metadata": {},
   "outputs": [],
   "source": [
    "lst.reverse()"
   ]
  },
  {
   "cell_type": "code",
   "execution_count": 23,
   "id": "c103d8e1",
   "metadata": {},
   "outputs": [
    {
     "data": {
      "text/plain": [
       "[0, 9, 8, 7, 6, 5, 4, 3, 2, 1, 0]"
      ]
     },
     "execution_count": 23,
     "metadata": {},
     "output_type": "execute_result"
    }
   ],
   "source": [
    "lst"
   ]
  },
  {
   "cell_type": "code",
   "execution_count": 25,
   "id": "514d019b",
   "metadata": {},
   "outputs": [],
   "source": [
    "lst.sort()"
   ]
  },
  {
   "cell_type": "code",
   "execution_count": 26,
   "id": "33286169",
   "metadata": {},
   "outputs": [
    {
     "data": {
      "text/plain": [
       "[0, 0, 1, 2, 3, 4, 5, 6, 7, 8, 9]"
      ]
     },
     "execution_count": 26,
     "metadata": {},
     "output_type": "execute_result"
    }
   ],
   "source": [
    "lst"
   ]
  },
  {
   "cell_type": "code",
   "execution_count": 27,
   "id": "e715c5ff",
   "metadata": {},
   "outputs": [],
   "source": [
    "lst.sort(reverse=True)"
   ]
  },
  {
   "cell_type": "code",
   "execution_count": 28,
   "id": "096eb331",
   "metadata": {},
   "outputs": [
    {
     "data": {
      "text/plain": [
       "[9, 8, 7, 6, 5, 4, 3, 2, 1, 0, 0]"
      ]
     },
     "execution_count": 28,
     "metadata": {},
     "output_type": "execute_result"
    }
   ],
   "source": [
    "lst"
   ]
  },
  {
   "cell_type": "code",
   "execution_count": 32,
   "id": "0a426c41",
   "metadata": {},
   "outputs": [],
   "source": [
    "def myFunc(e):\n",
    "    return len(e)\n",
    "\n",
    "books = ['Dune','Blue Sky']\n",
    "\n",
    "books.sort(key=myFunc)"
   ]
  },
  {
   "cell_type": "markdown",
   "id": "61be3953",
   "metadata": {},
   "source": [
    "<h3> Methods </h3>\n",
    "append\n",
    "count\n",
    "extend\n",
    "insert\n",
    "pop\n",
    "remove\n",
    "reverse\n",
    "sort\n"
   ]
  },
  {
   "cell_type": "markdown",
   "id": "1ee975bf",
   "metadata": {},
   "source": [
    "<h3> Functions </h3>"
   ]
  },
  {
   "cell_type": "code",
   "execution_count": 40,
   "id": "3f786f62",
   "metadata": {},
   "outputs": [],
   "source": [
    "def greeting(name):\n",
    "    print(f\"hello {name}\")"
   ]
  },
  {
   "cell_type": "code",
   "execution_count": 41,
   "id": "a0b05c53",
   "metadata": {},
   "outputs": [
    {
     "name": "stdout",
     "output_type": "stream",
     "text": [
      "hello JIm\n"
     ]
    }
   ],
   "source": [
    "greeting(\"JIm\")"
   ]
  },
  {
   "cell_type": "code",
   "execution_count": 42,
   "id": "aee4283a",
   "metadata": {},
   "outputs": [],
   "source": [
    "def add_nums(x,y):\n",
    "    return x+y"
   ]
  },
  {
   "cell_type": "code",
   "execution_count": 43,
   "id": "e3d1bbff",
   "metadata": {},
   "outputs": [
    {
     "data": {
      "text/plain": [
       "3"
      ]
     },
     "execution_count": 43,
     "metadata": {},
     "output_type": "execute_result"
    }
   ],
   "source": [
    "add_nums(1,2)"
   ]
  },
  {
   "cell_type": "code",
   "execution_count": 44,
   "id": "1fcab68d",
   "metadata": {},
   "outputs": [],
   "source": [
    "sum = add_nums(1,2)"
   ]
  },
  {
   "cell_type": "code",
   "execution_count": 45,
   "id": "f069a64b",
   "metadata": {},
   "outputs": [
    {
     "name": "stdout",
     "output_type": "stream",
     "text": [
      "3\n"
     ]
    }
   ],
   "source": [
    "print(sum)"
   ]
  },
  {
   "cell_type": "code",
   "execution_count": 47,
   "id": "6aceb94c",
   "metadata": {},
   "outputs": [
    {
     "name": "stdout",
     "output_type": "stream",
     "text": [
      "<class 'int'>\n"
     ]
    }
   ],
   "source": [
    "print(type(sum))"
   ]
  },
  {
   "cell_type": "code",
   "execution_count": 50,
   "id": "05ce7dc4",
   "metadata": {},
   "outputs": [
    {
     "name": "stdout",
     "output_type": "stream",
     "text": [
      "ok\n"
     ]
    }
   ],
   "source": [
    "if 5 in [5,6,7]:\n",
    "    print(\"ok\")"
   ]
  },
  {
   "cell_type": "markdown",
   "id": "49ac4fdf",
   "metadata": {},
   "source": [
    "5 in [1,23] "
   ]
  },
  {
   "cell_type": "code",
   "execution_count": 51,
   "id": "6622a8f6",
   "metadata": {},
   "outputs": [
    {
     "data": {
      "text/plain": [
       "False"
      ]
     },
     "execution_count": 51,
     "metadata": {},
     "output_type": "execute_result"
    }
   ],
   "source": [
    "5 in [1,2,3]"
   ]
  },
  {
   "cell_type": "code",
   "execution_count": 52,
   "id": "abf15bd3",
   "metadata": {},
   "outputs": [
    {
     "data": {
      "text/plain": [
       "True"
      ]
     },
     "execution_count": 52,
     "metadata": {},
     "output_type": "execute_result"
    }
   ],
   "source": [
    "5 in [4,5,6]"
   ]
  },
  {
   "cell_type": "code",
   "execution_count": 53,
   "id": "c4d2a290",
   "metadata": {},
   "outputs": [],
   "source": [
    "def num_in_list(num,list):\n",
    "    return num in list"
   ]
  },
  {
   "cell_type": "code",
   "execution_count": 54,
   "id": "e632c418",
   "metadata": {},
   "outputs": [
    {
     "data": {
      "text/plain": [
       "True"
      ]
     },
     "execution_count": 54,
     "metadata": {},
     "output_type": "execute_result"
    }
   ],
   "source": [
    "num_in_list(5,[3,4,5,6])"
   ]
  },
  {
   "cell_type": "code",
   "execution_count": 55,
   "id": "4306fda3",
   "metadata": {},
   "outputs": [],
   "source": [
    "def return_even_nums_in_list(num_list):\n",
    "    final_list = []\n",
    "    for num in num_list:\n",
    "        if num % 2 == 0:\n",
    "            final_list.append(num)\n",
    "        else:\n",
    "            pass\n",
    "    return final_list"
   ]
  },
  {
   "cell_type": "code",
   "execution_count": 56,
   "id": "e94e8c84",
   "metadata": {},
   "outputs": [
    {
     "data": {
      "text/plain": [
       "[2, 4, 6]"
      ]
     },
     "execution_count": 56,
     "metadata": {},
     "output_type": "execute_result"
    }
   ],
   "source": [
    "return_even_nums_in_list([1,2,3,4,5,6])"
   ]
  },
  {
   "cell_type": "code",
   "execution_count": null,
   "id": "35febef7",
   "metadata": {},
   "outputs": [],
   "source": []
  }
 ],
 "metadata": {
  "kernelspec": {
   "display_name": "Python 3 (ipykernel)",
   "language": "python",
   "name": "python3"
  },
  "language_info": {
   "codemirror_mode": {
    "name": "ipython",
    "version": 3
   },
   "file_extension": ".py",
   "mimetype": "text/x-python",
   "name": "python",
   "nbconvert_exporter": "python",
   "pygments_lexer": "ipython3",
   "version": "3.10.9"
  }
 },
 "nbformat": 4,
 "nbformat_minor": 5
}
