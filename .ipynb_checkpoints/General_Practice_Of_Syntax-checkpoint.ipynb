{
 "cells": [
  {
   "cell_type": "code",
   "execution_count": 23,
   "id": "6825a86f",
   "metadata": {},
   "outputs": [],
   "source": [
    "str1 = \"hello\""
   ]
  },
  {
   "cell_type": "code",
   "execution_count": 24,
   "id": "5b21258b",
   "metadata": {},
   "outputs": [],
   "source": [
    "str2 = \"world\""
   ]
  },
  {
   "cell_type": "code",
   "execution_count": 25,
   "id": "c0a8247d",
   "metadata": {},
   "outputs": [],
   "source": [
    "str3 = \"!\""
   ]
  },
  {
   "cell_type": "code",
   "execution_count": 26,
   "id": "58863895",
   "metadata": {},
   "outputs": [],
   "source": [
    "concat_str = str1 + \" \"+ str2 + \" \" + str3"
   ]
  },
  {
   "cell_type": "code",
   "execution_count": 28,
   "id": "355a7bdd",
   "metadata": {},
   "outputs": [
    {
     "name": "stdout",
     "output_type": "stream",
     "text": [
      "13\n"
     ]
    }
   ],
   "source": [
    "print(len(concat_str))"
   ]
  },
  {
   "cell_type": "code",
   "execution_count": 29,
   "id": "08294119",
   "metadata": {},
   "outputs": [
    {
     "name": "stdout",
     "output_type": "stream",
     "text": [
      "['hello', 'world', '!']\n"
     ]
    }
   ],
   "source": [
    "print(concat_str.split())"
   ]
  },
  {
   "cell_type": "code",
   "execution_count": 30,
   "id": "f1e1b0e9",
   "metadata": {},
   "outputs": [],
   "source": [
    "split_str = concat_str.split()"
   ]
  },
  {
   "cell_type": "code",
   "execution_count": 31,
   "id": "2c1fe924",
   "metadata": {},
   "outputs": [
    {
     "name": "stdout",
     "output_type": "stream",
     "text": [
      "['hello', 'world', '!']\n"
     ]
    }
   ],
   "source": [
    "print(split_str)"
   ]
  },
  {
   "cell_type": "code",
   "execution_count": 38,
   "id": "d12ad792",
   "metadata": {
    "scrolled": true
   },
   "outputs": [
    {
     "name": "stdout",
     "output_type": "stream",
     "text": [
      "hello\n",
      "hello, this is world world\n",
      "world\n",
      "!\n"
     ]
    }
   ],
   "source": [
    "# simple loop\n",
    "for x in split_str:\n",
    "    if x == \"world\":\n",
    "        print(\"hello, this is world\", x)\n",
    "    print(x)"
   ]
  },
  {
   "cell_type": "code",
   "execution_count": 45,
   "id": "66d5c519",
   "metadata": {},
   "outputs": [
    {
     "data": {
      "text/plain": [
       "['he', '', 'o']"
      ]
     },
     "execution_count": 45,
     "metadata": {},
     "output_type": "execute_result"
    }
   ],
   "source": [
    "str1.upper().lower().split(\"l\") #multiple methods"
   ]
  },
  {
   "cell_type": "markdown",
   "id": "92a27ef5",
   "metadata": {},
   "source": [
    "<h2> formatting </h2>"
   ]
  },
  {
   "cell_type": "code",
   "execution_count": 46,
   "id": "c0fa7a74",
   "metadata": {},
   "outputs": [
    {
     "name": "stdout",
     "output_type": "stream",
     "text": [
      "this is using .format method\n"
     ]
    }
   ],
   "source": [
    "print(\"this is using .format {}\".format(\"method\"))"
   ]
  },
  {
   "cell_type": "code",
   "execution_count": null,
   "id": "d0a107c0",
   "metadata": {},
   "outputs": [],
   "source": []
  }
 ],
 "metadata": {
  "kernelspec": {
   "display_name": "Python 3 (ipykernel)",
   "language": "python",
   "name": "python3"
  },
  "language_info": {
   "codemirror_mode": {
    "name": "ipython",
    "version": 3
   },
   "file_extension": ".py",
   "mimetype": "text/x-python",
   "name": "python",
   "nbconvert_exporter": "python",
   "pygments_lexer": "ipython3",
   "version": "3.10.9"
  }
 },
 "nbformat": 4,
 "nbformat_minor": 5
}
