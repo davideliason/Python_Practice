{
 "cells": [
  {
   "cell_type": "code",
   "execution_count": 23,
   "id": "d014924c",
   "metadata": {},
   "outputs": [],
   "source": [
    "str1 = \"hello\""
   ]
  },
  {
   "cell_type": "code",
   "execution_count": 24,
   "id": "594014c9",
   "metadata": {},
   "outputs": [],
   "source": [
    "str2 = \"world\""
   ]
  },
  {
   "cell_type": "code",
   "execution_count": 25,
   "id": "b283ac6c",
   "metadata": {},
   "outputs": [],
   "source": [
    "str3 = \"!\""
   ]
  },
  {
   "cell_type": "code",
   "execution_count": 26,
   "id": "e3fb0817",
   "metadata": {},
   "outputs": [],
   "source": [
    "concat_str = str1 + \" \"+ str2 + \" \" + str3"
   ]
  },
  {
   "cell_type": "code",
   "execution_count": 28,
   "id": "60a9005b",
   "metadata": {},
   "outputs": [
    {
     "name": "stdout",
     "output_type": "stream",
     "text": [
      "13\n"
     ]
    }
   ],
   "source": [
    "print(len(concat_str))"
   ]
  },
  {
   "cell_type": "code",
   "execution_count": 29,
   "id": "7a5fec83",
   "metadata": {},
   "outputs": [
    {
     "name": "stdout",
     "output_type": "stream",
     "text": [
      "['hello', 'world', '!']\n"
     ]
    }
   ],
   "source": [
    "print(concat_str.split())"
   ]
  },
  {
   "cell_type": "code",
   "execution_count": 30,
   "id": "ac472e86",
   "metadata": {},
   "outputs": [],
   "source": [
    "split_str = concat_str.split()"
   ]
  },
  {
   "cell_type": "code",
   "execution_count": 31,
   "id": "aaf8ad02",
   "metadata": {},
   "outputs": [
    {
     "name": "stdout",
     "output_type": "stream",
     "text": [
      "['hello', 'world', '!']\n"
     ]
    }
   ],
   "source": [
    "print(split_str)"
   ]
  },
  {
   "cell_type": "code",
   "execution_count": 38,
   "id": "4010dc6d",
   "metadata": {
    "scrolled": true
   },
   "outputs": [
    {
     "name": "stdout",
     "output_type": "stream",
     "text": [
      "hello\n",
      "hello, this is world world\n",
      "world\n",
      "!\n"
     ]
    }
   ],
   "source": [
    "# simple loop\n",
    "for x in split_str:\n",
    "    if x == \"world\":\n",
    "        print(\"hello, this is world\", x)\n",
    "    print(x)"
   ]
  },
  {
   "cell_type": "code",
   "execution_count": 45,
   "id": "5e86cd76",
   "metadata": {},
   "outputs": [
    {
     "data": {
      "text/plain": [
       "['he', '', 'o']"
      ]
     },
     "execution_count": 45,
     "metadata": {},
     "output_type": "execute_result"
    }
   ],
   "source": [
    "str1.upper().lower().split(\"l\") #multiple methods"
   ]
  },
  {
   "cell_type": "markdown",
   "id": "f859f363",
   "metadata": {},
   "source": [
    "<h2> formatting </h2>"
   ]
  },
  {
   "cell_type": "code",
   "execution_count": 46,
   "id": "26d25d5a",
   "metadata": {},
   "outputs": [
    {
     "name": "stdout",
     "output_type": "stream",
     "text": [
      "this is using .format method\n"
     ]
    }
   ],
   "source": [
    "print(\"this is using .format {}\".format(\"method\"))"
   ]
  },
  {
   "cell_type": "code",
   "execution_count": 47,
   "id": "d06b55f3",
   "metadata": {},
   "outputs": [
    {
     "name": "stdout",
     "output_type": "stream",
     "text": [
      "this is first and second\n"
     ]
    }
   ],
   "source": [
    "print(\"this is {a} and {b}\".format(a=\"first\", b=\"second\"))"
   ]
  },
  {
   "cell_type": "markdown",
   "id": "7f43fc05",
   "metadata": {},
   "source": [
    "<h2> Lists </h2>"
   ]
  },
  {
   "cell_type": "code",
   "execution_count": 48,
   "id": "60f92f5e",
   "metadata": {},
   "outputs": [],
   "source": [
    "list1 = [1,2,3]"
   ]
  },
  {
   "cell_type": "code",
   "execution_count": 49,
   "id": "abcdc7ce",
   "metadata": {},
   "outputs": [
    {
     "name": "stdout",
     "output_type": "stream",
     "text": [
      "3\n"
     ]
    }
   ],
   "source": [
    "print(len(list1))"
   ]
  },
  {
   "cell_type": "code",
   "execution_count": 51,
   "id": "858bd9d8",
   "metadata": {},
   "outputs": [
    {
     "name": "stdout",
     "output_type": "stream",
     "text": [
      "This is 1\n",
      "This is 2\n",
      "This is 3\n"
     ]
    }
   ],
   "source": [
    "#loop through list and stdout using .format method\n",
    "for num in list1:\n",
    "    print(\"This is {x}\".format(x=num))"
   ]
  },
  {
   "cell_type": "code",
   "execution_count": null,
   "id": "6a75aac2",
   "metadata": {},
   "outputs": [],
   "source": []
  }
 ],
 "metadata": {
  "kernelspec": {
   "display_name": "Python 3 (ipykernel)",
   "language": "python",
   "name": "python3"
  },
  "language_info": {
   "codemirror_mode": {
    "name": "ipython",
    "version": 3
   },
   "file_extension": ".py",
   "mimetype": "text/x-python",
   "name": "python",
   "nbconvert_exporter": "python",
   "pygments_lexer": "ipython3",
   "version": "3.10.9"
  }
 },
 "nbformat": 4,
 "nbformat_minor": 5
}
