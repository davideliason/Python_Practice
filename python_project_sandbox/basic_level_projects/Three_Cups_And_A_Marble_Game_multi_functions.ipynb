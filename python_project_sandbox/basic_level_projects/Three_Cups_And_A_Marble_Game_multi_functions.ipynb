{
 "cells": [
  {
   "cell_type": "code",
   "execution_count": 1,
   "id": "20687482",
   "metadata": {},
   "outputs": [],
   "source": [
    "# This game will use several Pythong functions to interact with each other\n",
    "# This will mimic a street-hustle game (which I fell victim to once in Europ) where a coin\n",
    "# is hidden under a cup, it is then shuffled and the player has to guess."
   ]
  },
  {
   "cell_type": "code",
   "execution_count": 2,
   "id": "e1ca83fa",
   "metadata": {},
   "outputs": [],
   "source": [
    "# practice with random and shuffle module\n",
    "ex = [1,2,3,4,5]\n",
    "from random import shuffle"
   ]
  },
  {
   "cell_type": "code",
   "execution_count": 3,
   "id": "37dc067a",
   "metadata": {},
   "outputs": [],
   "source": [
    "# shuffles in place\n",
    "shuffle(ex)"
   ]
  },
  {
   "cell_type": "code",
   "execution_count": 4,
   "id": "d2dfa5d3",
   "metadata": {},
   "outputs": [
    {
     "data": {
      "text/plain": [
       "[5, 3, 2, 1, 4]"
      ]
     },
     "execution_count": 4,
     "metadata": {},
     "output_type": "execute_result"
    }
   ],
   "source": [
    "ex"
   ]
  },
  {
   "cell_type": "code",
   "execution_count": null,
   "id": "ae5d4206",
   "metadata": {},
   "outputs": [],
   "source": []
  }
 ],
 "metadata": {
  "kernelspec": {
   "display_name": "Python 3 (ipykernel)",
   "language": "python",
   "name": "python3"
  },
  "language_info": {
   "codemirror_mode": {
    "name": "ipython",
    "version": 3
   },
   "file_extension": ".py",
   "mimetype": "text/x-python",
   "name": "python",
   "nbconvert_exporter": "python",
   "pygments_lexer": "ipython3",
   "version": "3.10.9"
  }
 },
 "nbformat": 4,
 "nbformat_minor": 5
}
