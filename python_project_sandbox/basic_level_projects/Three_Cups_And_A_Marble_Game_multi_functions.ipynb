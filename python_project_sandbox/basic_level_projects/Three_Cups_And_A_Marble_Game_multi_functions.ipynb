{
 "cells": [
  {
   "cell_type": "code",
   "execution_count": 1,
   "id": "20687482",
   "metadata": {},
   "outputs": [],
   "source": [
    "# This game will use several Pythong functions to interact with each other\n",
    "# This will mimic a street-hustle game (which I fell victim to once in Europ) where a coin\n",
    "# is hidden under a cup, it is then shuffled and the player has to guess."
   ]
  },
  {
   "cell_type": "code",
   "execution_count": 2,
   "id": "e1ca83fa",
   "metadata": {},
   "outputs": [],
   "source": [
    "# practice with random and shuffle module\n",
    "ex = [1,2,3,4,5]\n",
    "from random import shuffle"
   ]
  },
  {
   "cell_type": "code",
   "execution_count": 3,
   "id": "37dc067a",
   "metadata": {},
   "outputs": [],
   "source": [
    "# shuffles in place\n",
    "shuffle(ex)"
   ]
  },
  {
   "cell_type": "code",
   "execution_count": 4,
   "id": "d2dfa5d3",
   "metadata": {},
   "outputs": [
    {
     "data": {
      "text/plain": [
       "[1, 5, 2, 4, 3]"
      ]
     },
     "execution_count": 4,
     "metadata": {},
     "output_type": "execute_result"
    }
   ],
   "source": [
    "ex"
   ]
  },
  {
   "cell_type": "code",
   "execution_count": 5,
   "id": "ae5d4206",
   "metadata": {},
   "outputs": [],
   "source": [
    "def shuffle_list(mylist):\n",
    "    shuffle(mylist)\n",
    "    return mylist"
   ]
  },
  {
   "cell_type": "code",
   "execution_count": 6,
   "id": "b274a49d",
   "metadata": {},
   "outputs": [
    {
     "data": {
      "text/plain": [
       "[4, 5, 2, 1, 3]"
      ]
     },
     "execution_count": 6,
     "metadata": {},
     "output_type": "execute_result"
    }
   ],
   "source": [
    "shuffle_list(ex)"
   ]
  },
  {
   "cell_type": "code",
   "execution_count": 7,
   "id": "19d18681",
   "metadata": {},
   "outputs": [],
   "source": [
    "mylist=[' ','O',' ']"
   ]
  },
  {
   "cell_type": "code",
   "execution_count": 8,
   "id": "2edec842",
   "metadata": {},
   "outputs": [
    {
     "data": {
      "text/plain": [
       "[' ', ' ', 'O']"
      ]
     },
     "execution_count": 8,
     "metadata": {},
     "output_type": "execute_result"
    }
   ],
   "source": [
    "shuffle_list(mylist)"
   ]
  },
  {
   "cell_type": "code",
   "execution_count": 11,
   "id": "50c7a1d9",
   "metadata": {},
   "outputs": [],
   "source": [
    "def player_guess():\n",
    "    guess = ''\n",
    "    # keep asking for input until it is a correct value range\n",
    "    while guess not in ['0','1','2']:\n",
    "        guess = input('Pick a # 0,1 or 2')\n",
    "        \n",
    "    return int(guess)"
   ]
  },
  {
   "cell_type": "code",
   "execution_count": 12,
   "id": "58e56873",
   "metadata": {},
   "outputs": [
    {
     "name": "stdout",
     "output_type": "stream",
     "text": [
      "Pick a # 0,1 or 22\n"
     ]
    },
    {
     "data": {
      "text/plain": [
       "2"
      ]
     },
     "execution_count": 12,
     "metadata": {},
     "output_type": "execute_result"
    }
   ],
   "source": [
    "player_guess()"
   ]
  },
  {
   "cell_type": "code",
   "execution_count": 13,
   "id": "a40b327e",
   "metadata": {},
   "outputs": [],
   "source": [
    "def check_guess(mylist,guess):\n",
    "    if mylist[guess] == 'O':\n",
    "        print(\"correct\")\n",
    "    else:\n",
    "        print(\"wrong guess\")\n",
    "        print(mylist)"
   ]
  },
  {
   "cell_type": "markdown",
   "id": "0f675996",
   "metadata": {},
   "source": [
    "<h3> code structure</h3>"
   ]
  },
  {
   "cell_type": "code",
   "execution_count": 14,
   "id": "51853d86",
   "metadata": {},
   "outputs": [],
   "source": [
    "# INITIAL LIST\n",
    "## SHUFFLE LIST\n",
    "### USER GUESS\n",
    "#### CHECK GUESS"
   ]
  },
  {
   "cell_type": "code",
   "execution_count": 16,
   "id": "899979f2",
   "metadata": {},
   "outputs": [
    {
     "name": "stdout",
     "output_type": "stream",
     "text": [
      "Pick a # 0,1 or 23\n",
      "Pick a # 0,1 or 21\n",
      "wrong guess\n",
      "['O', ' ', ' ']\n"
     ]
    }
   ],
   "source": [
    "# INITIAL LIST\n",
    "\n",
    "mylist = [' ','O',' ']\n",
    "\n",
    "## SHUFFLE LIST\n",
    "\n",
    "shuffled_list = shuffle_list(mylist)\n",
    "\n",
    "### USER GUESS\n",
    "\n",
    "guessed_number = player_guess()\n",
    "\n",
    "#### CHECK GUESS\n",
    "\n",
    "check_guess(shuffled_list,guessed_number)"
   ]
  },
  {
   "cell_type": "code",
   "execution_count": null,
   "id": "aa534e1a",
   "metadata": {},
   "outputs": [],
   "source": []
  }
 ],
 "metadata": {
  "kernelspec": {
   "display_name": "Python 3 (ipykernel)",
   "language": "python",
   "name": "python3"
  },
  "language_info": {
   "codemirror_mode": {
    "name": "ipython",
    "version": 3
   },
   "file_extension": ".py",
   "mimetype": "text/x-python",
   "name": "python",
   "nbconvert_exporter": "python",
   "pygments_lexer": "ipython3",
   "version": "3.10.9"
  }
 },
 "nbformat": 4,
 "nbformat_minor": 5
}
