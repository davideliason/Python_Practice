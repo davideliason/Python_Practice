{
 "cells": [
  {
   "cell_type": "code",
   "execution_count": 31,
   "id": "2db88290",
   "metadata": {},
   "outputs": [],
   "source": [
    "# tuple unpacking\n",
    "stock_list = [('X-co',100),('B-co',200)]\n",
    "\n",
    "def get_info(input_list):\n",
    "    for name,price in input_list:\n",
    "        print(name)"
   ]
  },
  {
   "cell_type": "code",
   "execution_count": 32,
   "id": "2996fae9",
   "metadata": {},
   "outputs": [
    {
     "name": "stdout",
     "output_type": "stream",
     "text": [
      "X-co\n",
      "B-co\n"
     ]
    }
   ],
   "source": [
    "get_info(stock_list)"
   ]
  },
  {
   "cell_type": "code",
   "execution_count": 35,
   "id": "bb924501",
   "metadata": {},
   "outputs": [],
   "source": [
    "# examine input values and return employee of the month\n",
    "def employee_of_the_month(employees):\n",
    "    best_employee = ''\n",
    "    most_hours = 0\n",
    "    \n",
    "    #logic loop\n",
    "    for employee_name,hours in employees:\n",
    "        if hours > most_hours:\n",
    "            most_hours=hours\n",
    "            best_employee=employee_name\n",
    "        else:\n",
    "            pass\n",
    "    return (best_employee,most_hours)"
   ]
  },
  {
   "cell_type": "code",
   "execution_count": 37,
   "id": "3dfe0336",
   "metadata": {},
   "outputs": [],
   "source": [
    "x,y = employee_of_the_month([('John',300),('Bill',200)])"
   ]
  },
  {
   "cell_type": "code",
   "execution_count": 38,
   "id": "09891b4d",
   "metadata": {},
   "outputs": [
    {
     "data": {
      "text/plain": [
       "'John'"
      ]
     },
     "execution_count": 38,
     "metadata": {},
     "output_type": "execute_result"
    }
   ],
   "source": [
    "x"
   ]
  },
  {
   "cell_type": "code",
   "execution_count": 39,
   "id": "10d1e32e",
   "metadata": {},
   "outputs": [
    {
     "data": {
      "text/plain": [
       "300"
      ]
     },
     "execution_count": 39,
     "metadata": {},
     "output_type": "execute_result"
    }
   ],
   "source": [
    "y"
   ]
  },
  {
   "cell_type": "code",
   "execution_count": null,
   "id": "0d8ee47c",
   "metadata": {},
   "outputs": [],
   "source": []
  }
 ],
 "metadata": {
  "kernelspec": {
   "display_name": "Python 3 (ipykernel)",
   "language": "python",
   "name": "python3"
  },
  "language_info": {
   "codemirror_mode": {
    "name": "ipython",
    "version": 3
   },
   "file_extension": ".py",
   "mimetype": "text/x-python",
   "name": "python",
   "nbconvert_exporter": "python",
   "pygments_lexer": "ipython3",
   "version": "3.10.9"
  }
 },
 "nbformat": 4,
 "nbformat_minor": 5
}
