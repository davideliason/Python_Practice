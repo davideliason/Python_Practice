{
 "cells": [
  {
   "cell_type": "code",
   "execution_count": 3,
   "id": "a730fa35",
   "metadata": {},
   "outputs": [],
   "source": [
    "def myfunc(*args): # returns a tuple of elastic input values\n",
    "    print(args)"
   ]
  },
  {
   "cell_type": "code",
   "execution_count": 4,
   "id": "01b82d45",
   "metadata": {},
   "outputs": [
    {
     "name": "stdout",
     "output_type": "stream",
     "text": [
      "(1, 2, 3, 4)\n"
     ]
    }
   ],
   "source": [
    "myfunc(1,2,3,4)"
   ]
  },
  {
   "cell_type": "code",
   "execution_count": 5,
   "id": "63cc4dff",
   "metadata": {},
   "outputs": [],
   "source": [
    "def myfunc1(*args):\n",
    "    even_nums = []\n",
    "    \n",
    "    for num in args:\n",
    "        if num % 2 == 0:\n",
    "            even_nums.append(num)\n",
    "    return even_nums\n",
    "        "
   ]
  },
  {
   "cell_type": "code",
   "execution_count": 6,
   "id": "9da93382",
   "metadata": {},
   "outputs": [
    {
     "data": {
      "text/plain": [
       "[2, 4, 6]"
      ]
     },
     "execution_count": 6,
     "metadata": {},
     "output_type": "execute_result"
    }
   ],
   "source": [
    "myfunc1(1,2,3,4,5,6)"
   ]
  },
  {
   "cell_type": "code",
   "execution_count": 7,
   "id": "1087605d",
   "metadata": {},
   "outputs": [],
   "source": [
    "def mykwfun(**kwargs):\n",
    "    if 'fruit' in kwargs:\n",
    "        print(\"Mmm I like {}\".format(kwargs['fruit']))\n",
    "    else:\n",
    "        print(\"no fruit\")"
   ]
  },
  {
   "cell_type": "code",
   "execution_count": 8,
   "id": "7b91be3b",
   "metadata": {},
   "outputs": [
    {
     "name": "stdout",
     "output_type": "stream",
     "text": [
      "Mmm I like apple\n"
     ]
    }
   ],
   "source": [
    "mykwfun(fruit='apple',veggie='lettuce')"
   ]
  },
  {
   "cell_type": "code",
   "execution_count": 14,
   "id": "251d0b99",
   "metadata": {},
   "outputs": [],
   "source": [
    "# an example of combining the two\n",
    "def my_func(*args,**kwargs):\n",
    "    print(args)\n",
    "    print(kwargs)\n",
    "    print('I would like {} {}'.format(args[1], kwargs['food']))\n",
    "    "
   ]
  },
  {
   "cell_type": "code",
   "execution_count": 15,
   "id": "1fcb4df6",
   "metadata": {},
   "outputs": [
    {
     "name": "stdout",
     "output_type": "stream",
     "text": [
      "(10, 20, 30)\n",
      "{'food': 'pizza', 'animal': 'dog'}\n",
      "I would like 20 pizza\n"
     ]
    }
   ],
   "source": [
    "my_func(10,20,30,food='pizza', animal='dog')"
   ]
  },
  {
   "cell_type": "code",
   "execution_count": null,
   "id": "fab60cd2",
   "metadata": {},
   "outputs": [],
   "source": []
  }
 ],
 "metadata": {
  "kernelspec": {
   "display_name": "Python 3 (ipykernel)",
   "language": "python",
   "name": "python3"
  },
  "language_info": {
   "codemirror_mode": {
    "name": "ipython",
    "version": 3
   },
   "file_extension": ".py",
   "mimetype": "text/x-python",
   "name": "python",
   "nbconvert_exporter": "python",
   "pygments_lexer": "ipython3",
   "version": "3.10.9"
  }
 },
 "nbformat": 4,
 "nbformat_minor": 5
}
