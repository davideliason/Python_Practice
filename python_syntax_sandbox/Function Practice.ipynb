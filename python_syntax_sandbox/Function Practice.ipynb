{
 "cells": [
  {
   "cell_type": "code",
   "execution_count": 31,
   "id": "2db88290",
   "metadata": {},
   "outputs": [],
   "source": [
    "# tuple unpacking\n",
    "stock_list = [('X-co',100),('B-co',200)]\n",
    "\n",
    "def get_info(input_list):\n",
    "    for name,price in input_list:\n",
    "        print(name)"
   ]
  },
  {
   "cell_type": "code",
   "execution_count": 32,
   "id": "2996fae9",
   "metadata": {},
   "outputs": [
    {
     "name": "stdout",
     "output_type": "stream",
     "text": [
      "X-co\n",
      "B-co\n"
     ]
    }
   ],
   "source": [
    "get_info(stock_list)"
   ]
  },
  {
   "cell_type": "code",
   "execution_count": 35,
   "id": "bb924501",
   "metadata": {},
   "outputs": [],
   "source": [
    "# examine input values and return employee of the month\n",
    "def employee_of_the_month(employees):\n",
    "    best_employee = ''\n",
    "    most_hours = 0\n",
    "    \n",
    "    #logic loop\n",
    "    for employee_name,hours in employees:\n",
    "        if hours > most_hours:\n",
    "            most_hours=hours\n",
    "            best_employee=employee_name\n",
    "        else:\n",
    "            pass\n",
    "    return (best_employee,most_hours)"
   ]
  },
  {
   "cell_type": "code",
   "execution_count": 37,
   "id": "3dfe0336",
   "metadata": {},
   "outputs": [],
   "source": [
    "x,y = employee_of_the_month([('John',300),('Bill',200)])"
   ]
  },
  {
   "cell_type": "code",
   "execution_count": 38,
   "id": "09891b4d",
   "metadata": {},
   "outputs": [
    {
     "data": {
      "text/plain": [
       "'John'"
      ]
     },
     "execution_count": 38,
     "metadata": {},
     "output_type": "execute_result"
    }
   ],
   "source": [
    "x"
   ]
  },
  {
   "cell_type": "code",
   "execution_count": 39,
   "id": "10d1e32e",
   "metadata": {},
   "outputs": [
    {
     "data": {
      "text/plain": [
       "300"
      ]
     },
     "execution_count": 39,
     "metadata": {},
     "output_type": "execute_result"
    }
   ],
   "source": [
    "y"
   ]
  },
  {
   "cell_type": "code",
   "execution_count": 8,
   "id": "0d8ee47c",
   "metadata": {},
   "outputs": [
    {
     "data": {
      "text/plain": [
       "'H'"
      ]
     },
     "execution_count": 8,
     "metadata": {},
     "output_type": "execute_result"
    }
   ],
   "source": [
    "x = 'hello'\n",
    "\n",
    "x[0].upper()"
   ]
  },
  {
   "cell_type": "markdown",
   "id": "3b229eeb",
   "metadata": {},
   "source": [
    "UDEMY FUNCTION PRACTICE QUESTION 1:\n",
    "\n",
    "LESSER OF TWO EVENS: Write a function that returns the lesser of two given numbers if both numbers are even, but returns the greater if one or both numbers are odd\n",
    "lesser_of_two_evens(2,4) --> 2\n",
    "lesser_of_two_evens(2,5) --> 5\n"
   ]
  },
  {
   "cell_type": "code",
   "execution_count": 9,
   "id": "76115f70",
   "metadata": {},
   "outputs": [],
   "source": [
    "# My solution:"
   ]
  },
  {
   "cell_type": "code",
   "execution_count": 11,
   "id": "b2239baa",
   "metadata": {},
   "outputs": [],
   "source": [
    "def lesser_of_two_evens(a,b):\n",
    "    greater_num = 0\n",
    "    lesser_num  = 0\n",
    "    # check which is greater\n",
    "    if a > b:\n",
    "        greater_num = a\n",
    "        lesser_num  = b\n",
    "    else:\n",
    "        greater_num = b\n",
    "        lesser_num  = a\n",
    "      \n",
    "    # if BOTH inputs are even via modulus check, then return lesser argument value\n",
    "    if a % 2 == 0 and b % 2 == 0:\n",
    "        return lesser_num\n",
    "    # however, if either (or both) argument values are odd, then return greater argument value\n",
    "    elif a % 2 == 0 or b %2 == 0:\n",
    "        return greater_num\n",
    "        "
   ]
  },
  {
   "cell_type": "code",
   "execution_count": 12,
   "id": "d3171eb4",
   "metadata": {},
   "outputs": [
    {
     "data": {
      "text/plain": [
       "2"
      ]
     },
     "execution_count": 12,
     "metadata": {},
     "output_type": "execute_result"
    }
   ],
   "source": [
    "# check\n",
    "lesser_of_two_evens(2,4)"
   ]
  },
  {
   "cell_type": "code",
   "execution_count": 13,
   "id": "9d2fd81c",
   "metadata": {},
   "outputs": [
    {
     "data": {
      "text/plain": [
       "5"
      ]
     },
     "execution_count": 13,
     "metadata": {},
     "output_type": "execute_result"
    }
   ],
   "source": [
    "# check\n",
    "lesser_of_two_evens(2,5)"
   ]
  },
  {
   "cell_type": "code",
   "execution_count": null,
   "id": "55c0f0ce",
   "metadata": {},
   "outputs": [],
   "source": []
  }
 ],
 "metadata": {
  "kernelspec": {
   "display_name": "Python 3 (ipykernel)",
   "language": "python",
   "name": "python3"
  },
  "language_info": {
   "codemirror_mode": {
    "name": "ipython",
    "version": 3
   },
   "file_extension": ".py",
   "mimetype": "text/x-python",
   "name": "python",
   "nbconvert_exporter": "python",
   "pygments_lexer": "ipython3",
   "version": "3.10.9"
  }
 },
 "nbformat": 4,
 "nbformat_minor": 5
}
