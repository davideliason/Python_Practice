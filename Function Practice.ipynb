{
 "cells": [
  {
   "cell_type": "code",
   "execution_count": 1,
   "id": "4a6489e1",
   "metadata": {},
   "outputs": [],
   "source": [
    "# write a function that returns the lesser of two given numbers IF both numbers are even\n"
   ]
  },
  {
   "cell_type": "code",
   "execution_count": 2,
   "id": "970a5094",
   "metadata": {},
   "outputs": [],
   "source": [
    "# but if one or both # are odd, return greater #"
   ]
  },
  {
   "cell_type": "code",
   "execution_count": 29,
   "id": "fc6dc4d5",
   "metadata": {},
   "outputs": [],
   "source": [
    "def check_nums(nums):\n",
    "    new_nums = []\n",
    "    for num in nums:\n",
    "        new_nums.append(num)\n",
    "    new_nums.sort()\n",
    "    \n",
    "    return new_nums\n",
    "        "
   ]
  },
  {
   "cell_type": "code",
   "execution_count": 30,
   "id": "22c712d4",
   "metadata": {},
   "outputs": [
    {
     "data": {
      "text/plain": [
       "[1, 2, 5, 7]"
      ]
     },
     "execution_count": 30,
     "metadata": {},
     "output_type": "execute_result"
    }
   ],
   "source": [
    "check_nums([1,5,2,7])"
   ]
  },
  {
   "cell_type": "code",
   "execution_count": null,
   "id": "9f1eac57",
   "metadata": {},
   "outputs": [],
   "source": []
  }
 ],
 "metadata": {
  "kernelspec": {
   "display_name": "Python 3 (ipykernel)",
   "language": "python",
   "name": "python3"
  },
  "language_info": {
   "codemirror_mode": {
    "name": "ipython",
    "version": 3
   },
   "file_extension": ".py",
   "mimetype": "text/x-python",
   "name": "python",
   "nbconvert_exporter": "python",
   "pygments_lexer": "ipython3",
   "version": "3.10.9"
  }
 },
 "nbformat": 4,
 "nbformat_minor": 5
}
