{
 "cells": [
  {
   "cell_type": "code",
   "execution_count": 31,
   "id": "76ef9637",
   "metadata": {},
   "outputs": [],
   "source": [
    "# tuple unpacking\n",
    "stock_list = [('X-co',100),('B-co',200)]\n",
    "\n",
    "def get_info(input_list):\n",
    "    for name,price in input_list:\n",
    "        print(name)"
   ]
  },
  {
   "cell_type": "code",
   "execution_count": 32,
   "id": "3415cd2e",
   "metadata": {},
   "outputs": [
    {
     "name": "stdout",
     "output_type": "stream",
     "text": [
      "X-co\n",
      "B-co\n"
     ]
    }
   ],
   "source": [
    "get_info(stock_list)"
   ]
  },
  {
   "cell_type": "code",
   "execution_count": null,
   "id": "78b42ab1",
   "metadata": {},
   "outputs": [],
   "source": [
    "# examine input values and return employee of the month\n",
    "def employee_of_the_month(employees):\n",
    "    best_employee = ''\n",
    "    most_hours = 0\n",
    "    \n",
    "    #l"
   ]
  }
 ],
 "metadata": {
  "kernelspec": {
   "display_name": "Python 3 (ipykernel)",
   "language": "python",
   "name": "python3"
  },
  "language_info": {
   "codemirror_mode": {
    "name": "ipython",
    "version": 3
   },
   "file_extension": ".py",
   "mimetype": "text/x-python",
   "name": "python",
   "nbconvert_exporter": "python",
   "pygments_lexer": "ipython3",
   "version": "3.10.9"
  }
 },
 "nbformat": 4,
 "nbformat_minor": 5
}
