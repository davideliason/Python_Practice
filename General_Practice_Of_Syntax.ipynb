{
 "cells": [
  {
   "cell_type": "code",
   "execution_count": 23,
   "id": "0c62569d",
   "metadata": {},
   "outputs": [],
   "source": [
    "str1 = \"hello\""
   ]
  },
  {
   "cell_type": "code",
   "execution_count": 24,
   "id": "d725719b",
   "metadata": {},
   "outputs": [],
   "source": [
    "str2 = \"world\""
   ]
  },
  {
   "cell_type": "code",
   "execution_count": 25,
   "id": "68869537",
   "metadata": {},
   "outputs": [],
   "source": [
    "str3 = \"!\""
   ]
  },
  {
   "cell_type": "code",
   "execution_count": 26,
   "id": "bd75ee87",
   "metadata": {},
   "outputs": [],
   "source": [
    "concat_str = str1 + \" \"+ str2 + \" \" + str3"
   ]
  },
  {
   "cell_type": "code",
   "execution_count": 28,
   "id": "58c37cea",
   "metadata": {},
   "outputs": [
    {
     "name": "stdout",
     "output_type": "stream",
     "text": [
      "13\n"
     ]
    }
   ],
   "source": [
    "print(len(concat_str))"
   ]
  },
  {
   "cell_type": "code",
   "execution_count": 29,
   "id": "24e6d607",
   "metadata": {},
   "outputs": [
    {
     "name": "stdout",
     "output_type": "stream",
     "text": [
      "['hello', 'world', '!']\n"
     ]
    }
   ],
   "source": [
    "print(concat_str.split())"
   ]
  },
  {
   "cell_type": "code",
   "execution_count": 30,
   "id": "afaced5a",
   "metadata": {},
   "outputs": [],
   "source": [
    "split_str = concat_str.split()"
   ]
  },
  {
   "cell_type": "code",
   "execution_count": 31,
   "id": "ab9c760c",
   "metadata": {},
   "outputs": [
    {
     "name": "stdout",
     "output_type": "stream",
     "text": [
      "['hello', 'world', '!']\n"
     ]
    }
   ],
   "source": [
    "print(split_str)"
   ]
  },
  {
   "cell_type": "code",
   "execution_count": 38,
   "id": "49611ccd",
   "metadata": {},
   "outputs": [
    {
     "name": "stdout",
     "output_type": "stream",
     "text": [
      "hello\n",
      "hello, this is world world\n",
      "world\n",
      "!\n"
     ]
    }
   ],
   "source": [
    "# simple loop\n",
    "for x in split_str:\n",
    "    if x == \"world\":\n",
    "        print(\"hello, this is world\", x)\n",
    "    print(x)"
   ]
  },
  {
   "cell_type": "code",
   "execution_count": null,
   "id": "3fe20b09",
   "metadata": {},
   "outputs": [],
   "source": []
  }
 ],
 "metadata": {
  "kernelspec": {
   "display_name": "Python 3 (ipykernel)",
   "language": "python",
   "name": "python3"
  },
  "language_info": {
   "codemirror_mode": {
    "name": "ipython",
    "version": 3
   },
   "file_extension": ".py",
   "mimetype": "text/x-python",
   "name": "python",
   "nbconvert_exporter": "python",
   "pygments_lexer": "ipython3",
   "version": "3.10.9"
  }
 },
 "nbformat": 4,
 "nbformat_minor": 5
}
